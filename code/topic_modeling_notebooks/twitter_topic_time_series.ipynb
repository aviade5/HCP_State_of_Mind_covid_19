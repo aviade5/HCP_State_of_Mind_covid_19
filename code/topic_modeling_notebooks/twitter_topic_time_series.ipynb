{
 "cells": [
  {
   "cell_type": "markdown",
   "metadata": {},
   "source": [
    "## Preparation"
   ]
  },
  {
   "cell_type": "code",
   "execution_count": 2,
   "metadata": {},
   "outputs": [],
   "source": [
    "twitter_database_path = r'C:\\Users\\iliapl\\Documents\\CoronaVirusProject\\data\\databases\\53k_individual_hcps_70_percent_confidence_tweets.db'\n",
    "twitter_model_path = r'C:\\Users\\iliapl\\Documents\\CoronaVirusProject\\data\\output_data\\70_PERCENT_CONFIDENCE_53K_INDIVIDUAL_HCP_AUTHORS_2020_NO_KEYWORDS_WITH_RETWEETS_20_TOPICS'\n",
    "#twitter_location_analysis_path = r'C:\\Users\\iliapl\\Documents\\CoronaVirusProject\\data\\output_data\\twitter_location_analysis\\POI_Followers_13-06-20'\n",
    "#sentiment_analysis_path = r'D:\\iliapl\\topic_modeling\\data\\output_data\\twitter_sentiment_analysis\\POI_Followers_13-06-20'\n",
    "global_confirmed_path = r'C:\\Users\\iliapl\\Documents\\CoronaVirusProject\\data\\databases\\COVID-19-master\\csse_covid_19_data\\csse_covid_19_time_series\\time_series_covid19_confirmed_global.csv'\n",
    "global_death_path = r'C:\\Users\\iliapl\\Documents\\CoronaVirusProject\\data\\databases\\COVID-19-master\\csse_covid_19_data\\csse_covid_19_time_series\\time_series_covid19_deaths_global.csv'\n",
    "us_confirmed_path = r'C:\\Users\\iliapl\\Documents\\CoronaVirusProject\\data\\databases\\COVID-19-master\\csse_covid_19_data\\csse_covid_19_time_series\\time_series_covid19_confirmed_US.csv'\n",
    "us_death_path = r'C:\\Users\\iliapl\\Documents\\CoronaVirusProject\\data\\databases\\COVID-19-master\\csse_covid_19_data\\csse_covid_19_time_series\\time_series_covid19_deaths_US.csv'\n",
    "\n",
    "output_path = r'C:\\Users\\iliapl\\Documents\\CoronaVirusProject\\data\\output_data\\twitter_over_time\\53k_individual_hcps'"
   ]
  },
  {
   "cell_type": "code",
   "execution_count": 3,
   "metadata": {},
   "outputs": [],
   "source": [
    "start_date = (1, 1, 2019)\n",
    "end_date = (6, 12, 2020)\n",
    "\n",
    "NUM_TOPICS = 20"
   ]
  },
  {
   "cell_type": "code",
   "execution_count": 4,
   "metadata": {
    "scrolled": true
   },
   "outputs": [
    {
     "name": "stdout",
     "output_type": "stream",
     "text": [
      "Loaded twitter model, corpus, dictionary in 3.5427117347717285 seconds\n"
     ]
    }
   ],
   "source": [
    "from gensim.corpora import Dictionary\n",
    "from gensim.corpora.mmcorpus import MmCorpus\n",
    "from gensim.models import LdaModel\n",
    "import time\n",
    "\n",
    "# Load corpus, dictionary and model\n",
    "\n",
    "T = time.time()\n",
    "\n",
    "twitter_corpus = MmCorpus('{}/corpus.mm'.format(twitter_model_path))\n",
    "twitter_dict = Dictionary.load('{}/dict.id2word'.format(twitter_model_path))\n",
    "twitter_model = LdaModel.load('{}/lda.model'.format(twitter_model_path))\n",
    "\n",
    "T = time.time() - T\n",
    "print('Loaded twitter model, corpus, dictionary in {} seconds'.format(T))"
   ]
  },
  {
   "cell_type": "code",
   "execution_count": null,
   "metadata": {},
   "outputs": [],
   "source": [
    "import json\n",
    "\n",
    "# Load tweet id to bag-of-words map\n",
    "\n",
    "T = time.time()\n",
    "with open('{}/post_id_bow_dict.json'.format(twitter_model_path), 'r') as json_file:\n",
    "    tweet_id_dict = json.load(json_file)\n",
    "    \n",
    "T = time.time() - T\n",
    "print('Loaded id -> bow dictionary in {} seconds'.format(T))"
   ]
  },
  {
   "cell_type": "code",
   "execution_count": 5,
   "metadata": {},
   "outputs": [
    {
     "name": "stdout",
     "output_type": "stream",
     "text": [
      "Loaded id -> date dictionary in 9.236401319503784 seconds\n"
     ]
    }
   ],
   "source": [
    "import sqlite3 as sql\n",
    "import os\n",
    "\n",
    "# Load or create tweet_id -> date map\n",
    "\n",
    "if not os.path.exists(output_path):\n",
    "    os.makedirs(output_path)\n",
    "\n",
    "T = time.time()\n",
    "\n",
    "if not os.path.isfile('{}/tweet_date_map.json'.format(twitter_model_path)):\n",
    "    conn = sql.connect(twitter_database_path)\n",
    "    cur = conn.cursor()\n",
    "    query = 'SELECT post_id, date FROM posts'\n",
    "    tweet_id_dates = cur.execute(query).fetchall()\n",
    "    tweet_id_date_dict = {tweet_id : date for (tweet_id, date) in tweet_id_dates if tweet_id in tweet_id_dict}\n",
    "    with open('{}/tweet_date_map.json'.format(twitter_model_path), 'w') as file_handle:\n",
    "        json.dump(tweet_id_date_dict, file_handle)\n",
    "else:\n",
    "    with open('{}/tweet_date_map.json'.format(twitter_model_path), 'r') as file_handle:\n",
    "        tweet_id_date_dict = json.load(file_handle)\n",
    "\n",
    "\n",
    "T = time.time() - T\n",
    "print('Loaded id -> date dictionary in {} seconds'.format(T))"
   ]
  },
  {
   "cell_type": "code",
   "execution_count": 6,
   "metadata": {},
   "outputs": [
    {
     "name": "stdout",
     "output_type": "stream",
     "text": [
      "Loaded id -> topic dictionary in 233.15202593803406 seconds\n"
     ]
    }
   ],
   "source": [
    "import ast\n",
    "\n",
    "# Load or create tweet_id -> topic map\n",
    "\n",
    "T = time.time()\n",
    "\n",
    "tweet_id_topic_dict = {}\n",
    "\n",
    "if not os.path.isfile('{}/tweet_topic_map.json'.format(twitter_model_path)):\n",
    "    for tweet_id, bow in tweet_id_dict.items():\n",
    "        topics = twitter_model.get_document_topics(bow)\n",
    "        tweet_id_topic_dict[tweet_id] = max(topics, key=lambda tup: tup[1])\n",
    "        \n",
    "        # so we can save it as json\n",
    "        tweet_id_topic_dict[tweet_id] = (tweet_id_topic_dict[tweet_id][0], round(tweet_id_topic_dict[tweet_id][1], 3))\n",
    "    with open('{}/tweet_topic_map.json'.format(twitter_model_path), 'w') as file_handle:\n",
    "        json.dump({tweet_id : str(topic) for (tweet_id, topic) in tweet_id_topic_dict.items()}, file_handle)\n",
    "else:\n",
    "    with open('{}/tweet_topic_map.json'.format(twitter_model_path), 'r') as file_handle:\n",
    "        tweet_id_topic_dict = json.load(file_handle)\n",
    "        tweet_id_topic_dict = {tweet_id : ast.literal_eval(tup_str) for (tweet_id, tup_str) in tweet_id_topic_dict.items()}\n",
    "    \n",
    "T = time.time() - T\n",
    "print('Loaded id -> topic dictionary in {} seconds'.format(T))"
   ]
  },
  {
   "cell_type": "code",
   "execution_count": 7,
   "metadata": {},
   "outputs": [
    {
     "name": "stdout",
     "output_type": "stream",
     "text": [
      "Loaded id -> author dictionary in 19.153240203857422 seconds\n"
     ]
    }
   ],
   "source": [
    "import os\n",
    "\n",
    "T = time.time()\n",
    "\n",
    "# Load or create tweet_id -> author name map\n",
    "\n",
    "tweet_id_author_dict = {}\n",
    "\n",
    "if not os.path.isfile('{}/tweet_author_map.json'.format(twitter_model_path)):\n",
    "    cur = conn.cursor()\n",
    "    query = 'SELECT post_id, author FROM posts WHERE post_id IN {}'.format(str(tuple(list(tweet_id_topic_dict.keys()))))\n",
    "    results = cur.execute(query).fetchall()\n",
    "    tweet_id_author_dict = {result[0] : result[1] for result in results}\n",
    "    with open('{}/tweet_author_map.json'.format(twitter_model_path), 'w') as file_handle:\n",
    "        json.dump(tweet_id_author_dict, file_handle)\n",
    "else:\n",
    "    with open('{}/tweet_author_map.json'.format(twitter_model_path), 'r') as file_handle:\n",
    "        tweet_id_author_dict = json.load(file_handle)\n",
    "    \n",
    "T = time.time() - T\n",
    "print('Loaded id -> author dictionary in {} seconds'.format(T))"
   ]
  },
  {
   "cell_type": "code",
   "execution_count": 8,
   "metadata": {},
   "outputs": [],
   "source": [
    "tweet_id_country_dict = {}\n",
    "\n",
    "# Load tweet_id -> country map\n",
    "\n",
    "with open('{}/tweet_countries.json'.format(twitter_location_analysis_path), 'r') as file_handle:\n",
    "    tweet_id_country_dict = json.load(file_handle)"
   ]
  },
  {
   "cell_type": "code",
   "execution_count": 9,
   "metadata": {},
   "outputs": [],
   "source": [
    "tweet_id_state_dict = {}\n",
    "\n",
    "# Load tweet_id -> state map\n",
    "\n",
    "with open('{}/tweet_states.json'.format(twitter_location_analysis_path), 'r') as file_handle:\n",
    "    tweet_id_state_dict = json.load(file_handle)"
   ]
  },
  {
   "cell_type": "code",
   "execution_count": 10,
   "metadata": {},
   "outputs": [],
   "source": [
    "tweet_id_sentiment_dict = {}\n",
    "\n",
    "# Load tweet_id -> sentiment value map\n",
    "\n",
    "with open('{}/tweet_id_sentiment_map.json'.format(sentiment_analysis_path), 'r') as file_handle:\n",
    "    tweet_id_sentiment_dict = json.load(file_handle)"
   ]
  },
  {
   "cell_type": "code",
   "execution_count": 11,
   "metadata": {},
   "outputs": [],
   "source": [
    "import datetime\n",
    "\n",
    "# covid data starts on 22/01\n",
    "covid_data_start_date_obj = max(datetime.date(start_date[2], start_date[1], start_date[0]), datetime.date(2020, 1, 22))\n",
    "\n",
    "covid_data_end_date_obj = datetime.date(end_date[2], end_date[1], end_date[0])"
   ]
  },
  {
   "cell_type": "code",
   "execution_count": 12,
   "metadata": {},
   "outputs": [],
   "source": [
    "with open('{}/state_code_name.json'.format(twitter_location_analysis_path), 'r') as file_handle:\n",
    "    state_code_name_dict = json.load(file_handle)\n",
    "\n",
    "state_name_code_dict = {state_name : state_code for (state_code, state_name) in state_code_name_dict.items()}"
   ]
  },
  {
   "cell_type": "code",
   "execution_count": 13,
   "metadata": {},
   "outputs": [],
   "source": [
    "import pandas as pd\n",
    "\n",
    "global_confirmed_df = pd.read_csv(global_confirmed_path)\n",
    "global_death_df = pd.read_csv(global_death_path)\n",
    "us_confirmed_df = pd.read_csv(us_confirmed_path)\n",
    "us_death_df = pd.read_csv(us_death_path)"
   ]
  },
  {
   "cell_type": "code",
   "execution_count": 14,
   "metadata": {},
   "outputs": [],
   "source": [
    "import numpy as np\n",
    "\n",
    "def get_new_cases_per_day(case_type, country_name, state, covid_data_start_date, end_date):\n",
    "    if case_type != 'confirmed' and case_type != 'death':\n",
    "        print('Valid cases are confirmed and death')\n",
    "        \n",
    "    if case_type == 'confirmed':\n",
    "        if state:\n",
    "            df = us_confirmed_df\n",
    "        else:\n",
    "            df = global_confirmed_df\n",
    "    elif case_type == 'death':\n",
    "        if state:\n",
    "            df = us_death_df\n",
    "        else:\n",
    "            df = global_death_df\n",
    "        \n",
    "    series = []\n",
    "    \n",
    "    start_date = covid_data_start_date\n",
    "    delta = datetime.timedelta(days=1)\n",
    "\n",
    "    date = start_date\n",
    "    \n",
    "    while date <= end_date:\n",
    "        \n",
    "        date_str = date.strftime('%m/%d/%y').lstrip(\"0\").replace(\"/0\", \"/\")    \n",
    "        previous_day_str = (date - delta).strftime('%m/%d/%y').lstrip('0').replace('/0', '/')\n",
    "        \n",
    "        if country_name == 'global':\n",
    "            series.append(sum(df[date_str]) - sum(df[previous_day_str]))\n",
    "        else:\n",
    "            column_name = 'Country/Region' if not state else 'Province_State'\n",
    "            row = df.loc[df[column_name] == country_name]\n",
    "            \n",
    "            # sum is applied because some countries (like UK) have provinces, creating duplicate country names\n",
    "            daily_count = int(sum(row[date_str]) - sum(row[previous_day_str]))\n",
    "            series.append(daily_count)\n",
    "                \n",
    "        date += delta\n",
    "    return series"
   ]
  },
  {
   "cell_type": "code",
   "execution_count": 15,
   "metadata": {},
   "outputs": [],
   "source": [
    "from tqdm import tqdm\n",
    "\n",
    "def get_tweets_per_day(country_name, state, topic_id, start_date, end_date):\n",
    "    if topic_id != -1:\n",
    "        tweet_ids = [tweet_id for (tweet_id, tweet_topic) in tweet_id_topic_dict.items() if tweet_topic[0] == topic_id]\n",
    "    else:\n",
    "        tweet_ids = [tweet_id for (tweet_id, _) in tweet_id_topic_dict.items()]\n",
    "    tweets_per_day = []\n",
    "    delta = end_date - start_date\n",
    "    num_days = delta.days\n",
    "    \n",
    "    for i in range(num_days + 1):\n",
    "        tweets_per_day.append([])\n",
    "    \n",
    "    print('Getting tweets per day for {} (state: {}), topic id: {}, start_date: {}, end_date: {}'.format(country_name,\n",
    "                                                                                                        state, topic_id,\n",
    "                                                                                                        start_date, end_date))\n",
    "    for tweet_id in tweet_ids:\n",
    "        if tweet_id not in tweet_id_date_dict:\n",
    "            continue\n",
    "        tweet_date = tweet_id_date_dict[tweet_id]\n",
    "        tweet_date = tweet_date[:tweet_date.index(' ')] # keep just the date, without time, ,%Y-%m-%d\n",
    "        date_obj = datetime.datetime.strptime(tweet_date, '%Y-%m-%d').date()\n",
    "        if start_date <= date_obj <= end_date:\n",
    "            day_idx = (date_obj - start_date).days\n",
    "            tweets_per_day[day_idx].append(tweet_id)\n",
    "    \n",
    "    if country_name != 'global':\n",
    "        country_state_dict = tweet_id_country_dict\n",
    "        if state:\n",
    "            country_name = state_name_code_dict.get(country_name, None)\n",
    "            if country_name is None or country_name not in set(tweet_id_state_dict.values()):\n",
    "                raise ValueError('Invalid state name')\n",
    "                return None\n",
    "            \n",
    "            # country_name is the name of a state\n",
    "            country_state_dict = tweet_id_state_dict\n",
    "            \n",
    "        country_tweets_per_day = []\n",
    "        for day_tweets in tweets_per_day:\n",
    "            new_day_tweets = []\n",
    "            for tweet in day_tweets:\n",
    "                if tweet in country_state_dict and country_state_dict[tweet] == country_name:\n",
    "                    new_day_tweets.append(tweet)\n",
    "            country_tweets_per_day.append(new_day_tweets)\n",
    "        tweets_per_day = country_tweets_per_day\n",
    "    \n",
    "    return tweets_per_day"
   ]
  },
  {
   "cell_type": "code",
   "execution_count": 16,
   "metadata": {},
   "outputs": [],
   "source": [
    "def get_num_different_authors(tweet_list):\n",
    "    return len(set([tweet_id_author_dict[tweet_id] for tweet_id in tweet_list]))"
   ]
  },
  {
   "cell_type": "code",
   "execution_count": 17,
   "metadata": {},
   "outputs": [],
   "source": [
    "def get_num_tweets_per_day(country_name, state, topic_id, start_date, end_date, num_distinct_authors=False):\n",
    "    tweets_per_day = get_tweets_per_day(country_name, state, topic_id, start_date, end_date)\n",
    "    num_different_authors = None\n",
    "    if get_num_different_authors:\n",
    "        num_different_authors = [get_num_different_authors(daily_tweets) for daily_tweets in tweets_per_day]\n",
    "    return [len(lst) for lst in tweets_per_day], num_different_authors"
   ]
  },
  {
   "cell_type": "markdown",
   "metadata": {},
   "source": [
    "## Sentiment Over Time"
   ]
  },
  {
   "cell_type": "code",
   "execution_count": 18,
   "metadata": {},
   "outputs": [],
   "source": [
    "def get_percentile_values(value_list, min_max, percentile):\n",
    "    num_values_to_retrieve = int(percentile / 100 * len(value_list))\n",
    "    if num_values_to_retrieve == 0:\n",
    "        print('Percentile too low, not enough values')\n",
    "        return None\n",
    "    if min_max.lower() == 'min':\n",
    "        return sorted(value_list)[:num_values_to_retrieve]\n",
    "    else:\n",
    "        return sorted(value_list, reverse=True)[:num_values_to_retrieve]"
   ]
  },
  {
   "cell_type": "code",
   "execution_count": 19,
   "metadata": {},
   "outputs": [],
   "source": [
    "def get_sentiment_aggregate(tweet_id_list, aggregate_type, min_max_percentile):\n",
    "    sentiments = [tweet_id_sentiment_dict[tweet_id] for tweet_id in tweet_id_list if tweet_id in tweet_id_sentiment_dict]\n",
    "    if aggregate_type == 'average':\n",
    "        return sum(sentiments) / len(sentiments)\n",
    "    else:\n",
    "        values = get_percentile_values(sentiments, aggregate_type, min_max_percentile)\n",
    "        return sum(values) / len(values)"
   ]
  },
  {
   "cell_type": "code",
   "execution_count": 20,
   "metadata": {},
   "outputs": [],
   "source": [
    "def get_weekly_sentiment_aggregate(country_name, state, topic_id, start_date, end_date, aggregate_type, min_max_percentile, tweets_per_day=None):\n",
    "    if not tweets_per_day:\n",
    "        tweets_per_day = get_tweets_per_day(country_name, state, topic_id, start_date, end_date)\n",
    "    sentiments_per_day = [get_sentiment_aggregate(daily_tweets, aggregate_type, min_max_percentile) if len(daily_tweets) > 0 else 0 for daily_tweets in tweets_per_day]\n",
    "    divided_list = [sentiments_per_day[x:x+7] for x in range(0, len(sentiments_per_day), 7)]\n",
    "    if aggregate_type == 'average':\n",
    "        weekly_values = [sum(lst) / len(lst) for lst in divided_list]\n",
    "    elif aggregate_type == 'max':\n",
    "        weekly_values = [max(lst) for lst in divided_list]\n",
    "    elif aggregate_type == 'min':\n",
    "        weekly_values = [min(lst) for lst in divided_list]\n",
    "    return weekly_values"
   ]
  },
  {
   "cell_type": "code",
   "execution_count": 21,
   "metadata": {},
   "outputs": [],
   "source": [
    "def get_flattened_list(list_of_lists):\n",
    "    return [item for sublist in list_of_lists for item in sublist]"
   ]
  },
  {
   "cell_type": "code",
   "execution_count": 22,
   "metadata": {},
   "outputs": [],
   "source": [
    "def get_normalized(lst):\n",
    "    new_lst = []\n",
    "    for i in lst:\n",
    "        new_lst.append(i / max(lst))\n",
    "    return new_lst"
   ]
  },
  {
   "cell_type": "code",
   "execution_count": 23,
   "metadata": {},
   "outputs": [],
   "source": [
    "def get_weekly_counts_by_days(daily_count_list):\n",
    "    divided_list = [daily_count_list[x:x+7] for x in range(0, len(daily_count_list), 7)]\n",
    "    weekly_counts = [sum(lst) for lst in divided_list]\n",
    "    return weekly_counts"
   ]
  },
  {
   "cell_type": "code",
   "execution_count": 24,
   "metadata": {},
   "outputs": [],
   "source": [
    "def get_sentiment_count(tweet_list, non_neutral_threshold=0.05):\n",
    "    negative = 0\n",
    "    neutral = 0\n",
    "    positive = 0\n",
    "    for tweet in tweet_list:\n",
    "        if tweet not in tweet_id_sentiment_dict:\n",
    "            continue\n",
    "        sentiment = tweet_id_sentiment_dict[tweet]\n",
    "        if sentiment < -non_neutral_threshold:\n",
    "            negative += 1\n",
    "        elif sentiment > non_neutral_threshold:\n",
    "            positive += 1\n",
    "        else:\n",
    "            neutral += 1\n",
    "    return (negative, neutral, positive)"
   ]
  },
  {
   "cell_type": "code",
   "execution_count": null,
   "metadata": {},
   "outputs": [],
   "source": [
    "import matplotlib.pyplot as plt\n",
    "import matplotlib as mpl\n",
    "import matplotlib.dates as mdates\n",
    "\n",
    "def plot_weekly_sentiment_stacked_area_chart(country_name, state, topic_id, start_date, end_date, non_neutral_threshold=0.05):\n",
    "    tweets_per_day = get_tweets_per_day(country_name, state, topic_id, start_date, end_date)\n",
    "\n",
    "    divided_list = [get_flattened_list(tweets_per_day[x:x+7]) for x in range(0, len(tweets_per_day), 7)]\n",
    "    num_weeks = len(divided_list)\n",
    "    df_dict = {'negative' : [], 'neutral' : [], 'positive' : []}\n",
    "    \n",
    "    for i, weekly_tweets in enumerate(divided_list):\n",
    "        sentiment_count = get_sentiment_count(weekly_tweets, non_neutral_threshold=non_neutral_threshold)\n",
    "        current_week = start_date + datetime.timedelta(days=7*i)\n",
    "        df_dict['negative'].append(sentiment_count[0])\n",
    "        df_dict['neutral'].append(sentiment_count[1])\n",
    "        df_dict['positive'].append(sentiment_count[2])\n",
    "        \n",
    "    df = pd.DataFrame(df_dict, index=[start_date + datetime.timedelta(days=7*i) for i in range(num_weeks)])\n",
    "    df = df.divide(df.sum(axis=1), axis=0)\n",
    "    \n",
    "    mpl.rcParams['font.size'] = 15.0\n",
    "    \n",
    "    plot = df.plot.area(figsize=(18, 10), linewidth=1, colormap='gray')\n",
    "    plot.collections[0].set_facecolor('#ff0000')\n",
    "    plot.collections[0].set_edgecolor('#ff0000')\n",
    "    plot.collections[1].set_facecolor('#eda51d')\n",
    "    plot.collections[1].set_edgecolor('#eda51d')\n",
    "    plot.collections[2].set_facecolor('#77d750')\n",
    "    plot.collections[2].set_edgecolor('#77d750')\n",
    "    \n",
    "    leg = plot.legend(['Negative tweets', 'Neutral tweets', 'Positive tweets'], loc='upper center', bbox_to_anchor=(0.5, -0.18), fancybox=True, shadow=True, ncol=3)\n",
    "    leg.legendHandles[0].set_color('#ff0000')\n",
    "    leg.legendHandles[1].set_color('#eda51d')\n",
    "    leg.legendHandles[2].set_color('#77d750')\n",
    "    \n",
    "    fig = plot.get_figure()\n",
    "\n",
    "    plt.margins(0, 0)\n",
    "    plt.autoscale()\n",
    "    \n",
    "    ax = plot.axes\n",
    "    ax.xaxis.set_major_locator(mdates.WeekdayLocator(interval=1))\n",
    "    ax.xaxis.set_major_formatter(mdates.DateFormatter('%d-%b-%Y'))\n",
    "   \n",
    "    ax.axvline(datetime.date(2020, 3, 5), 0, 1.0, color='grey', ls='--')\n",
    "    ax.text(datetime.date(2020, 3, 5), 0.2, 'March 5th - First case in U.S.', rotation=90)\n",
    "\n",
    "    ax.axvline(datetime.date(2020, 5, 22), 0, 1.0, color='grey', ls='--')\n",
    "    ax.text(datetime.date(2020, 5, 22), 0.2, 'May 22nd - Dominic Cummings scandal', rotation=90)\n",
    "    \n",
    "    ax.axvline(datetime.date(2020, 5, 25), 0, 1.0, color='grey', ls='--')\n",
    "    ax.text(datetime.date(2020, 5, 25), 0.2, 'May 25th - Death of George Floyd', rotation=90)\n",
    "    \n",
    "    #if country_name != 'global':\n",
    "    #    plt.title('Weekly tweet sentiment for {} in {} - threshold {}'.format('topic {}'.format(topic_id) if topic_id != -1 else 'all topics',\n",
    "    #                                                      country_name, non_neutral_threshold))\n",
    "    #else:\n",
    "    #    plt.title('Global weekly tweet sentiment for {} - threshold {}'.format('topic {}'.format(topic_id) if topic_id != -1 else 'all topics', non_neutral_threshold))\n",
    "        \n",
    "        \n",
    "    fig.autofmt_xdate()\n",
    "\n",
    "    fig.savefig('test.png', bbox_inches='tight')"
   ]
  },
  {
   "cell_type": "code",
   "execution_count": null,
   "metadata": {
    "scrolled": true
   },
   "outputs": [],
   "source": [
    "plot_weekly_sentiment_stacked_area_chart('global', False, -1, datetime.date(start_date[2], start_date[1], start_date[0]),\n",
    "                                         covid_data_end_date_obj, non_neutral_threshold=0.2)"
   ]
  },
  {
   "cell_type": "code",
   "execution_count": null,
   "metadata": {},
   "outputs": [],
   "source": [
    "from scipy.stats import pearsonr\n",
    "from math import ceil\n",
    "\n",
    "def plot_weekly_sentiment_aggregate(country_name, state, topic_id, start_date, end_date, aggregate_types, min_max_percentile):\n",
    "    weekly_aggregate_dict = {}\n",
    "    tweets_per_day = get_tweets_per_day(country_name, state, topic_id, start_date, end_date)\n",
    "    for aggregate_type in aggregate_types:\n",
    "        weekly_aggregate_dict[aggregate_type] = get_weekly_sentiment_aggregate(country_name, state, topic_id, covid_data_start_date_obj, covid_data_end_date_obj, \n",
    "                                                                               aggregate_type, min_max_percentile, tweets_per_day=tweets_per_day)    \n",
    "    if country_name == 'United States':\n",
    "        country_name = 'US'\n",
    "        \n",
    "    infected_per_day = get_new_cases_per_day('confirmed', country_name, state, start_date, end_date)\n",
    "    infected_per_week = get_weekly_counts_by_days(infected_per_day)\n",
    "    dead_per_day = get_new_cases_per_day('death', country_name, state, start_date, end_date)\n",
    "    dead_per_week = get_weekly_counts_by_days(dead_per_day)\n",
    "    \n",
    "    for aggregate_type in aggregate_types:\n",
    "        correlation_value, pvalue = pearsonr(infected_per_week, weekly_aggregate_dict[aggregate_type])\n",
    "        print('Confirmed {} case correlation: {:.3}, p-value: {:.3}'.format(aggregate_type, correlation_value, pvalue))\n",
    "        correlation_value, pvalue = pearsonr(dead_per_week, weekly_aggregate_dict[aggregate_type])\n",
    "        print('Death {} case correlation: {:.3}, p-value: {:.3}'.format(aggregate_type, correlation_value, pvalue))\n",
    "    \n",
    "    date_range = pd.date_range(start_date, end_date)\n",
    "    num_weeks = ceil(len(date_range) / 7)\n",
    "    \n",
    "    fig, ax = plt.subplots(figsize=(17, 8))\n",
    "\n",
    "    for i, aggregate_type in enumerate(aggregate_types):\n",
    "        if aggregate_type == 'min':\n",
    "            label = 'Average bottom 10% sentiment'\n",
    "            color = 'red'\n",
    "        elif aggregate_type == 'average':\n",
    "            label = 'Total average sentiment'\n",
    "            color = 'orange'\n",
    "        elif aggregate_type == 'max':\n",
    "            label = 'Average top 10% sentiment'\n",
    "            color = 'green'\n",
    "        plt.plot([start_date + datetime.timedelta(days=7*i) for i in range(num_weeks)], weekly_aggregate_dict[aggregate_type],\n",
    "                 label=label, color=color)\n",
    "\n",
    "\n",
    "    leg = plt.legend(loc='upper center', bbox_to_anchor=(0.5, -0.18), fancybox=True, shadow=True, ncol=3)\n",
    "    \n",
    "    plt.ylabel('Sentiment')\n",
    "   \n",
    "    #if country_name != 'global':\n",
    "    #    plt.title('Weekly aggregated sentiment for {} in {}'.format('all topics' if topic_id == -1 else 'topic {}'.format(topic_id),\n",
    "    #                                                          country_name))\n",
    "    #else:\n",
    "    #    plt.title('Global weekly aggregated sentiment for {}'.format('all topics' if topic_id == -1 else 'topic {}'.format(topic_id)))\n",
    "    \n",
    "    ax.xaxis.set_major_locator(mdates.WeekdayLocator(interval=1))\n",
    "    ax.xaxis.set_major_formatter(mdates.DateFormatter('%d-%b-%Y'))\n",
    "    fig.autofmt_xdate()\n"
   ]
  },
  {
   "cell_type": "code",
   "execution_count": null,
   "metadata": {},
   "outputs": [],
   "source": [
    "plot_weekly_sentiment_aggregate('global', False, -1, covid_data_start_date_obj + datetime.timedelta(days=1), covid_data_end_date_obj, ['max', 'average', 'min'], 10)"
   ]
  },
  {
   "cell_type": "markdown",
   "metadata": {},
   "source": [
    "## Tweet Count Time Series"
   ]
  },
  {
   "cell_type": "code",
   "execution_count": 25,
   "metadata": {},
   "outputs": [],
   "source": [
    "from IPython.display import display\n",
    "from PIL import Image\n",
    "\n",
    "import matplotlib.pyplot as plt\n",
    "import matplotlib.dates as mdates\n",
    "\n",
    "def prepare_topic_country_tweet_count_over_time(country_name, state, topic_id, start_date, end_date, show_infected_graph=True,\n",
    "                                                show_death_graph=True, show_distinct_author_graph=True, normalize=False, weekly=True):\n",
    "    \n",
    "    if topic_id != -1:\n",
    "        img = Image.open('{}/topic{}.png'.format(twitter_model_path, topic_id))\n",
    "        img.thumbnail((150, 150))\n",
    "        display(img)\n",
    "    \n",
    "    num_tweets_per_day, num_distinct_authors_per_day = get_num_tweets_per_day(country_name, state, topic_id, start_date, end_date,\n",
    "                                                                             num_distinct_authors=show_distinct_author_graph)\n",
    "    if not weekly:\n",
    "        num_tweets_per_time_period = num_tweets_per_day\n",
    "        num_authors_per_time_period = num_distinct_authors_per_day\n",
    "    else:\n",
    "        num_tweets_per_time_period = get_weekly_counts_by_days(num_tweets_per_day)\n",
    "        num_authors_per_time_period = get_weekly_counts_by_days(num_distinct_authors_per_day)\n",
    "        \n",
    "        \n",
    "    normalized_num_tweets_per_time_period = get_normalized(num_tweets_per_time_period)\n",
    "\n",
    "    fig, ax = plt.subplots(figsize=(15, 7))\n",
    "    date_range = pd.date_range(start_date, end_date)\n",
    "    if weekly:\n",
    "        date_range = [str(date_range[i]) for i in range(0, len(date_range), 7)]\n",
    "    plt.plot(date_range, normalized_num_tweets_per_time_period if normalize else num_tweets_per_time_period, \n",
    "             label='{} tweet count'.format('Weekly' if weekly else 'Daily'))\n",
    "\n",
    "    if country_name == 'United States':\n",
    "        country_name = 'US'\n",
    "        \n",
    "    if show_infected_graph:\n",
    "        if start_date < datetime.date(2020, 1, 23):\n",
    "            raise ValueError('COVID-19 cases per day data starts on 22/01/2020, adjust start date accordingly')\n",
    "        infected_per_day = get_new_cases_per_day('confirmed', country_name, state, start_date, end_date)\n",
    "        if weekly:\n",
    "            infected_per_time_period = get_weekly_counts_by_days(infected_per_day)\n",
    "        else:\n",
    "            infected_per_time_period = list(map(lambda a: np.nan if a < 0 else a, infected_per_day))\n",
    "                    \n",
    "        normalized_infected_per_time_period = get_normalized(infected_per_time_period)\n",
    "        \n",
    "        no_nan_infected_per_time_period = [number if number == number else 0 for number in infected_per_time_period]\n",
    "        correlation_value, pvalue = pearsonr(num_tweets_per_time_period, no_nan_infected_per_time_period)\n",
    "        print('Confirmed case correlation: {:.3}, p-value: {:.3}'.format(correlation_value, pvalue))\n",
    "        plt.plot(date_range, normalized_infected_per_time_period if normalize else infected_per_time_period, \n",
    "                 label='{} confirmed cases'.format('Weekly' if weekly else 'Daily'))\n",
    "    \n",
    "    if show_death_graph:\n",
    "        if start_date < datetime.date(2020, 1, 23):\n",
    "            raise ValueError('COVID-19 cases per day data starts on 22/01/2020, adjust start date accordingly')\n",
    "        deaths_per_day = get_new_cases_per_day('death', country_name, state, start_date, end_date)\n",
    "        if weekly:\n",
    "            deaths_per_time_period = get_weekly_counts_by_days(deaths_per_day)\n",
    "        else:\n",
    "            deaths_per_time_period = list(map(lambda a: np.nan if a < 0 else a, deaths_per_day))\n",
    "        normalized_deaths_per_time_period = get_normalized(deaths_per_time_period)\n",
    "        \n",
    "        no_nan_deaths_per_time_period = [number if number == number else 0 for number in deaths_per_time_period]\n",
    "        correlation_value, pvalue = pearsonr(num_tweets_per_time_period, no_nan_deaths_per_time_period)\n",
    "        print('Death case correlation: {:.3}, p-value: {:.3}'.format(correlation_value, pvalue))\n",
    "        plt.plot(date_range, normalized_deaths_per_time_period if normalize else deaths_per_time_period,\n",
    "                 'r', label='{} deaths'.format('Weekly' if weekly else 'Daily'))\n",
    "        \n",
    "    if show_distinct_author_graph:\n",
    "        normalized_num_distinct_authors_per_time_period = get_normalized(num_authors_per_time_period)\n",
    "        \n",
    "        plt.plot(date_range, normalized_num_distinct_authors_per_time_period if normalize else\n",
    "                num_authors_per_time_period, label='# distinct authors')\n",
    "    if not weekly:\n",
    "        ax.xaxis.set_major_locator(mdates.DayLocator(interval=3))\n",
    "    else:\n",
    "        ax.xaxis.set_major_locator(mdates.DayLocator(interval=7))\n",
    "    ax.xaxis.set_major_formatter(mdates.DateFormatter('%d-%b-%Y'))\n",
    "        \n",
    "    plt.xticks(rotation=90)\n",
    "    plt.legend()\n",
    "    plt.grid(True)\n",
    "        \n",
    "    plt.title('{}Tweet count per {} for {} in {}'.format('Normalized ' if normalize else '', \n",
    "                                                          'Week' if weekly else 'Day',\n",
    "                                                         'topic {}'.format(topic_id) if topic_id != -1 else 'all topics',\n",
    "                                                          country_name))\n",
    "    plt.ylabel('{}{} item count'.format('Normalized ' if normalize else '', 'Weekly' if weekly  else 'Daily'))"
   ]
  },
  {
   "cell_type": "code",
   "execution_count": null,
   "metadata": {
    "scrolled": true
   },
   "outputs": [],
   "source": [
    "prepare_topic_country_tweet_count_over_time('global', False, 8, covid_data_start_date_obj + datetime.timedelta(days=1), covid_data_end_date_obj,\n",
    "                                            show_infected_graph=True, show_death_graph=True, show_distinct_author_graph=True,\n",
    "                                            normalize=False, weekly=True)\n",
    "plt.show()"
   ]
  },
  {
   "cell_type": "markdown",
   "metadata": {},
   "source": [
    "## Correlation matrices"
   ]
  },
  {
   "cell_type": "code",
   "execution_count": 27,
   "metadata": {},
   "outputs": [],
   "source": [
    "from scipy.stats import pearsonr\n",
    "\n",
    "def generate_weekly_correlation_matrix(country_name, state, start_date, end_date):\n",
    "    df_dict = {}\n",
    "    for topic_id in range(NUM_TOPICS):\n",
    "        num_tweets_per_day = get_num_tweets_per_day(country_name, state, topic_id, start_date, end_date)[0]\n",
    "        num_confirmed_per_day = get_new_cases_per_day('confirmed', country_name if country_name != 'United States' else 'US'\n",
    "                                                      , state, start_date, end_date)\n",
    "        num_dead_per_day = get_new_cases_per_day('death', country_name if country_name != 'United States' else 'US'\n",
    "                                                 , state, start_date, end_date)\n",
    "\n",
    "        num_tweets_per_week = get_weekly_counts_by_days(num_tweets_per_day)\n",
    "        num_confirmed_per_week = get_weekly_counts_by_days(num_confirmed_per_day)\n",
    "        num_dead_per_week = get_weekly_counts_by_days(num_dead_per_day)\n",
    "        \n",
    "        confirmed_correlation_pvalue = pearsonr(num_tweets_per_week, num_confirmed_per_week)\n",
    "        confirmed_delta_correlation_pvalue = pearsonr([num_tweets_per_week[i] - num_tweets_per_week[i-1] for i in range(1, len(num_tweets_per_week))]\n",
    "                                                     , [num_confirmed_per_week[i] - num_confirmed_per_week[i-1] for i in range(1, len(num_confirmed_per_week))])\n",
    "        death_correlation_pvalue = pearsonr(num_tweets_per_week, num_dead_per_week)\n",
    "        death_delta_correlation_pvalue = pearsonr([num_tweets_per_week[i] - num_tweets_per_week[i-1] for i in range(1, len(num_tweets_per_week))]\n",
    "                                                     , [num_dead_per_week[i] - num_dead_per_week[i-1] for i in range(1, len(num_dead_per_week))])\n",
    "        df_dict['t{}'.format(topic_id)] = [confirmed_correlation_pvalue[0], confirmed_correlation_pvalue[1],\n",
    "                                           confirmed_delta_correlation_pvalue[0], confirmed_delta_correlation_pvalue[1],\n",
    "                                           death_correlation_pvalue[0], death_correlation_pvalue[1],\n",
    "                                          death_delta_correlation_pvalue[0], death_delta_correlation_pvalue[1]]\n",
    "        \n",
    "    df = pd.DataFrame(df_dict, index=['confirmed', 'confirmed p-value', 'confirmed deltas', 'confirmed deltas p-value',\n",
    "                                      'deaths', 'deaths p-value', 'death deltas', 'death deltas p-value'])\n",
    "    if not os.path.exists('{}/correlation'.format(output_path)):\n",
    "        os.makedirs('{}/correlation'.format(output_path))\n",
    "    df.to_csv('{}/correlation/{}.csv'.format(output_path, country_name))\n",
    "    return df"
   ]
  },
  {
   "cell_type": "code",
   "execution_count": 34,
   "metadata": {},
   "outputs": [],
   "source": [
    "for country_name, is_state in [('United States', False), ('Canada', False), ('Saudi Arabia', False), ('India', False), ('Mexico', False),\n",
    "                              ('New York', True), ('Texas', True), ('Florida', True), ('Massachusetts', True)]: \n",
    "    generate_weekly_correlation_matrix(country_name, is_state, covid_data_start_date_obj + datetime.timedelta(days=1), covid_data_end_date_obj)"
   ]
  },
  {
   "cell_type": "code",
   "execution_count": 26,
   "metadata": {},
   "outputs": [],
   "source": [
    "def get_topic_volume_correlation_matrix(country_name, state, start_date, end_date):\n",
    "    T = time.time()\n",
    "    weekly_tweet_volumes = [get_weekly_topic_volume(country_name, state, topic_id, start_date, end_date) for topic_id in range(NUM_TOPICS)]\n",
    "    print('Got weekly tweet volumes for all topics in {} seconds'.format(time.time() - T))\n",
    "    \n",
    "    correlation_dict = {}\n",
    "    for i in range(NUM_TOPICS):\n",
    "        correlation_dict[(i, i)] = 1\n",
    "        for j in range(i + 1, NUM_TOPICS):\n",
    "            correlation_value, _ = pearsonr(weekly_tweet_volumes[i], weekly_tweet_volumes[j])\n",
    "            correlation_dict[(i, j)] = correlation_value\n",
    "            correlation_dict[(j, i)] = correlation_dict[(i, j)]\n",
    "    df_dict = {'t{}'.format(i) : [correlation_dict[(i, j)] for j in range(NUM_TOPICS)] for i in range(NUM_TOPICS)}\n",
    "    \n",
    "    df = pd.DataFrame(df_dict, index=['t{}'.format(i) for i in range(NUM_TOPICS)])\n",
    "    df.to_csv('{}/correlation/volumes-{}.csv'.format(output_path, country_name))\n",
    "    return df"
   ]
  },
  {
   "cell_type": "code",
   "execution_count": 27,
   "metadata": {},
   "outputs": [
    {
     "name": "stdout",
     "output_type": "stream",
     "text": [
      "Got weekly tweet volumes for all topics in 1568.9715218544006 seconds\n"
     ]
    }
   ],
   "source": [
    "df = get_topic_volume_correlation_matrix('global', False, covid_data_start_date_obj, covid_data_end_date_obj)"
   ]
  },
  {
   "cell_type": "markdown",
   "metadata": {},
   "source": [
    "# Stacked area charts of global topics"
   ]
  },
  {
   "cell_type": "code",
   "execution_count": 25,
   "metadata": {},
   "outputs": [],
   "source": [
    "import datetime\n",
    "\n",
    "def get_topic_tweets_per_week(model, corpus, topic, start_day, start_month, start_year, end_day, end_month, end_year):\n",
    "    delta = datetime.timedelta(days=6)\n",
    "    \n",
    "    all_week_tweets = []\n",
    "    \n",
    "    start_date = datetime.date(start_year, start_month, start_day)\n",
    "    end_date = datetime.date(end_year, end_month, end_day)\n",
    "    current_date = start_date\n",
    "    \n",
    "    while current_date <= end_date:\n",
    "        \n",
    "        end_of_week = min(current_date + delta, end_date)\n",
    "        \n",
    "        # flatten list of daily tweets\n",
    "        all_week_tweets.append([tweet for day_tweets in get_tweets_per_day('global', False, topic,\n",
    "                                current_date, end_of_week)\n",
    "                                for tweet in day_tweets])\n",
    "        \n",
    "        current_date += (delta + datetime.timedelta(days=1))\n",
    "    return all_week_tweets\n",
    "        "
   ]
  },
  {
   "cell_type": "code",
   "execution_count": 55,
   "metadata": {},
   "outputs": [],
   "source": [
    "topics_to_show = [0, 1, 2, 3, 4, 5, 8, 9]\n",
    "topic_colors = {0: 'navy', 1: 'red', 2: 'brown', 3: 'dodgerblue', 4: 'lime', 5: 'blue', 8: 'purple', 9: 'orange', 16: 'green'}\n",
    "topic_names = {0: 'everyday life', 1: 'call for action', 2: 'online education', 3: 'interracial tension', 4: 'epidemiological information', 5: 'PPE for healthcare professionals', 8: 'leisure and art', 9: 'well-wishing'}"
   ]
  },
  {
   "cell_type": "code",
   "execution_count": 27,
   "metadata": {},
   "outputs": [
    {
     "name": "stdout",
     "output_type": "stream",
     "text": [
      "Getting tweets per day for global (state: False), topic id: 0, start_date: 2019-12-31, end_date: 2020-01-06\n",
      "Getting tweets per day for global (state: False), topic id: 0, start_date: 2020-01-07, end_date: 2020-01-13\n",
      "Getting tweets per day for global (state: False), topic id: 0, start_date: 2020-01-14, end_date: 2020-01-20\n",
      "Getting tweets per day for global (state: False), topic id: 0, start_date: 2020-01-21, end_date: 2020-01-27\n",
      "Getting tweets per day for global (state: False), topic id: 0, start_date: 2020-01-28, end_date: 2020-02-03\n",
      "Getting tweets per day for global (state: False), topic id: 0, start_date: 2020-02-04, end_date: 2020-02-10\n",
      "Getting tweets per day for global (state: False), topic id: 0, start_date: 2020-02-11, end_date: 2020-02-17\n",
      "Getting tweets per day for global (state: False), topic id: 0, start_date: 2020-02-18, end_date: 2020-02-24\n",
      "Getting tweets per day for global (state: False), topic id: 0, start_date: 2020-02-25, end_date: 2020-03-02\n",
      "Getting tweets per day for global (state: False), topic id: 0, start_date: 2020-03-03, end_date: 2020-03-09\n",
      "Getting tweets per day for global (state: False), topic id: 0, start_date: 2020-03-10, end_date: 2020-03-16\n",
      "Getting tweets per day for global (state: False), topic id: 0, start_date: 2020-03-17, end_date: 2020-03-23\n",
      "Getting tweets per day for global (state: False), topic id: 0, start_date: 2020-03-24, end_date: 2020-03-30\n",
      "Getting tweets per day for global (state: False), topic id: 0, start_date: 2020-03-31, end_date: 2020-04-06\n",
      "Getting tweets per day for global (state: False), topic id: 0, start_date: 2020-04-07, end_date: 2020-04-13\n",
      "Getting tweets per day for global (state: False), topic id: 0, start_date: 2020-04-14, end_date: 2020-04-20\n",
      "Getting tweets per day for global (state: False), topic id: 0, start_date: 2020-04-21, end_date: 2020-04-27\n",
      "Getting tweets per day for global (state: False), topic id: 0, start_date: 2020-04-28, end_date: 2020-05-04\n",
      "Getting tweets per day for global (state: False), topic id: 0, start_date: 2020-05-05, end_date: 2020-05-11\n",
      "Getting tweets per day for global (state: False), topic id: 0, start_date: 2020-05-12, end_date: 2020-05-18\n",
      "Getting tweets per day for global (state: False), topic id: 0, start_date: 2020-05-19, end_date: 2020-05-25\n",
      "Getting tweets per day for global (state: False), topic id: 0, start_date: 2020-05-26, end_date: 2020-06-01\n",
      "Getting tweets per day for global (state: False), topic id: 0, start_date: 2020-06-02, end_date: 2020-06-08\n",
      "Getting tweets per day for global (state: False), topic id: 0, start_date: 2020-06-09, end_date: 2020-06-13\n",
      "Getting tweets per day for global (state: False), topic id: 1, start_date: 2019-12-31, end_date: 2020-01-06\n",
      "Getting tweets per day for global (state: False), topic id: 1, start_date: 2020-01-07, end_date: 2020-01-13\n",
      "Getting tweets per day for global (state: False), topic id: 1, start_date: 2020-01-14, end_date: 2020-01-20\n",
      "Getting tweets per day for global (state: False), topic id: 1, start_date: 2020-01-21, end_date: 2020-01-27\n",
      "Getting tweets per day for global (state: False), topic id: 1, start_date: 2020-01-28, end_date: 2020-02-03\n",
      "Getting tweets per day for global (state: False), topic id: 1, start_date: 2020-02-04, end_date: 2020-02-10\n",
      "Getting tweets per day for global (state: False), topic id: 1, start_date: 2020-02-11, end_date: 2020-02-17\n",
      "Getting tweets per day for global (state: False), topic id: 1, start_date: 2020-02-18, end_date: 2020-02-24\n",
      "Getting tweets per day for global (state: False), topic id: 1, start_date: 2020-02-25, end_date: 2020-03-02\n",
      "Getting tweets per day for global (state: False), topic id: 1, start_date: 2020-03-03, end_date: 2020-03-09\n",
      "Getting tweets per day for global (state: False), topic id: 1, start_date: 2020-03-10, end_date: 2020-03-16\n",
      "Getting tweets per day for global (state: False), topic id: 1, start_date: 2020-03-17, end_date: 2020-03-23\n",
      "Getting tweets per day for global (state: False), topic id: 1, start_date: 2020-03-24, end_date: 2020-03-30\n",
      "Getting tweets per day for global (state: False), topic id: 1, start_date: 2020-03-31, end_date: 2020-04-06\n",
      "Getting tweets per day for global (state: False), topic id: 1, start_date: 2020-04-07, end_date: 2020-04-13\n",
      "Getting tweets per day for global (state: False), topic id: 1, start_date: 2020-04-14, end_date: 2020-04-20\n",
      "Getting tweets per day for global (state: False), topic id: 1, start_date: 2020-04-21, end_date: 2020-04-27\n",
      "Getting tweets per day for global (state: False), topic id: 1, start_date: 2020-04-28, end_date: 2020-05-04\n",
      "Getting tweets per day for global (state: False), topic id: 1, start_date: 2020-05-05, end_date: 2020-05-11\n",
      "Getting tweets per day for global (state: False), topic id: 1, start_date: 2020-05-12, end_date: 2020-05-18\n",
      "Getting tweets per day for global (state: False), topic id: 1, start_date: 2020-05-19, end_date: 2020-05-25\n",
      "Getting tweets per day for global (state: False), topic id: 1, start_date: 2020-05-26, end_date: 2020-06-01\n",
      "Getting tweets per day for global (state: False), topic id: 1, start_date: 2020-06-02, end_date: 2020-06-08\n",
      "Getting tweets per day for global (state: False), topic id: 1, start_date: 2020-06-09, end_date: 2020-06-13\n",
      "Getting tweets per day for global (state: False), topic id: 2, start_date: 2019-12-31, end_date: 2020-01-06\n",
      "Getting tweets per day for global (state: False), topic id: 2, start_date: 2020-01-07, end_date: 2020-01-13\n",
      "Getting tweets per day for global (state: False), topic id: 2, start_date: 2020-01-14, end_date: 2020-01-20\n",
      "Getting tweets per day for global (state: False), topic id: 2, start_date: 2020-01-21, end_date: 2020-01-27\n",
      "Getting tweets per day for global (state: False), topic id: 2, start_date: 2020-01-28, end_date: 2020-02-03\n",
      "Getting tweets per day for global (state: False), topic id: 2, start_date: 2020-02-04, end_date: 2020-02-10\n",
      "Getting tweets per day for global (state: False), topic id: 2, start_date: 2020-02-11, end_date: 2020-02-17\n",
      "Getting tweets per day for global (state: False), topic id: 2, start_date: 2020-02-18, end_date: 2020-02-24\n",
      "Getting tweets per day for global (state: False), topic id: 2, start_date: 2020-02-25, end_date: 2020-03-02\n",
      "Getting tweets per day for global (state: False), topic id: 2, start_date: 2020-03-03, end_date: 2020-03-09\n",
      "Getting tweets per day for global (state: False), topic id: 2, start_date: 2020-03-10, end_date: 2020-03-16\n",
      "Getting tweets per day for global (state: False), topic id: 2, start_date: 2020-03-17, end_date: 2020-03-23\n",
      "Getting tweets per day for global (state: False), topic id: 2, start_date: 2020-03-24, end_date: 2020-03-30\n",
      "Getting tweets per day for global (state: False), topic id: 2, start_date: 2020-03-31, end_date: 2020-04-06\n",
      "Getting tweets per day for global (state: False), topic id: 2, start_date: 2020-04-07, end_date: 2020-04-13\n",
      "Getting tweets per day for global (state: False), topic id: 2, start_date: 2020-04-14, end_date: 2020-04-20\n",
      "Getting tweets per day for global (state: False), topic id: 2, start_date: 2020-04-21, end_date: 2020-04-27\n",
      "Getting tweets per day for global (state: False), topic id: 2, start_date: 2020-04-28, end_date: 2020-05-04\n",
      "Getting tweets per day for global (state: False), topic id: 2, start_date: 2020-05-05, end_date: 2020-05-11\n",
      "Getting tweets per day for global (state: False), topic id: 2, start_date: 2020-05-12, end_date: 2020-05-18\n",
      "Getting tweets per day for global (state: False), topic id: 2, start_date: 2020-05-19, end_date: 2020-05-25\n",
      "Getting tweets per day for global (state: False), topic id: 2, start_date: 2020-05-26, end_date: 2020-06-01\n",
      "Getting tweets per day for global (state: False), topic id: 2, start_date: 2020-06-02, end_date: 2020-06-08\n",
      "Getting tweets per day for global (state: False), topic id: 2, start_date: 2020-06-09, end_date: 2020-06-13\n",
      "Getting tweets per day for global (state: False), topic id: 3, start_date: 2019-12-31, end_date: 2020-01-06\n",
      "Getting tweets per day for global (state: False), topic id: 3, start_date: 2020-01-07, end_date: 2020-01-13\n",
      "Getting tweets per day for global (state: False), topic id: 3, start_date: 2020-01-14, end_date: 2020-01-20\n",
      "Getting tweets per day for global (state: False), topic id: 3, start_date: 2020-01-21, end_date: 2020-01-27\n"
     ]
    },
    {
     "name": "stdout",
     "output_type": "stream",
     "text": [
      "Getting tweets per day for global (state: False), topic id: 3, start_date: 2020-01-28, end_date: 2020-02-03\n",
      "Getting tweets per day for global (state: False), topic id: 3, start_date: 2020-02-04, end_date: 2020-02-10\n",
      "Getting tweets per day for global (state: False), topic id: 3, start_date: 2020-02-11, end_date: 2020-02-17\n",
      "Getting tweets per day for global (state: False), topic id: 3, start_date: 2020-02-18, end_date: 2020-02-24\n",
      "Getting tweets per day for global (state: False), topic id: 3, start_date: 2020-02-25, end_date: 2020-03-02\n",
      "Getting tweets per day for global (state: False), topic id: 3, start_date: 2020-03-03, end_date: 2020-03-09\n",
      "Getting tweets per day for global (state: False), topic id: 3, start_date: 2020-03-10, end_date: 2020-03-16\n",
      "Getting tweets per day for global (state: False), topic id: 3, start_date: 2020-03-17, end_date: 2020-03-23\n",
      "Getting tweets per day for global (state: False), topic id: 3, start_date: 2020-03-24, end_date: 2020-03-30\n",
      "Getting tweets per day for global (state: False), topic id: 3, start_date: 2020-03-31, end_date: 2020-04-06\n",
      "Getting tweets per day for global (state: False), topic id: 3, start_date: 2020-04-07, end_date: 2020-04-13\n",
      "Getting tweets per day for global (state: False), topic id: 3, start_date: 2020-04-14, end_date: 2020-04-20\n",
      "Getting tweets per day for global (state: False), topic id: 3, start_date: 2020-04-21, end_date: 2020-04-27\n",
      "Getting tweets per day for global (state: False), topic id: 3, start_date: 2020-04-28, end_date: 2020-05-04\n",
      "Getting tweets per day for global (state: False), topic id: 3, start_date: 2020-05-05, end_date: 2020-05-11\n",
      "Getting tweets per day for global (state: False), topic id: 3, start_date: 2020-05-12, end_date: 2020-05-18\n",
      "Getting tweets per day for global (state: False), topic id: 3, start_date: 2020-05-19, end_date: 2020-05-25\n",
      "Getting tweets per day for global (state: False), topic id: 3, start_date: 2020-05-26, end_date: 2020-06-01\n",
      "Getting tweets per day for global (state: False), topic id: 3, start_date: 2020-06-02, end_date: 2020-06-08\n",
      "Getting tweets per day for global (state: False), topic id: 3, start_date: 2020-06-09, end_date: 2020-06-13\n",
      "Getting tweets per day for global (state: False), topic id: 4, start_date: 2019-12-31, end_date: 2020-01-06\n",
      "Getting tweets per day for global (state: False), topic id: 4, start_date: 2020-01-07, end_date: 2020-01-13\n",
      "Getting tweets per day for global (state: False), topic id: 4, start_date: 2020-01-14, end_date: 2020-01-20\n",
      "Getting tweets per day for global (state: False), topic id: 4, start_date: 2020-01-21, end_date: 2020-01-27\n",
      "Getting tweets per day for global (state: False), topic id: 4, start_date: 2020-01-28, end_date: 2020-02-03\n",
      "Getting tweets per day for global (state: False), topic id: 4, start_date: 2020-02-04, end_date: 2020-02-10\n",
      "Getting tweets per day for global (state: False), topic id: 4, start_date: 2020-02-11, end_date: 2020-02-17\n",
      "Getting tweets per day for global (state: False), topic id: 4, start_date: 2020-02-18, end_date: 2020-02-24\n",
      "Getting tweets per day for global (state: False), topic id: 4, start_date: 2020-02-25, end_date: 2020-03-02\n",
      "Getting tweets per day for global (state: False), topic id: 4, start_date: 2020-03-03, end_date: 2020-03-09\n",
      "Getting tweets per day for global (state: False), topic id: 4, start_date: 2020-03-10, end_date: 2020-03-16\n",
      "Getting tweets per day for global (state: False), topic id: 4, start_date: 2020-03-17, end_date: 2020-03-23\n",
      "Getting tweets per day for global (state: False), topic id: 4, start_date: 2020-03-24, end_date: 2020-03-30\n",
      "Getting tweets per day for global (state: False), topic id: 4, start_date: 2020-03-31, end_date: 2020-04-06\n",
      "Getting tweets per day for global (state: False), topic id: 4, start_date: 2020-04-07, end_date: 2020-04-13\n",
      "Getting tweets per day for global (state: False), topic id: 4, start_date: 2020-04-14, end_date: 2020-04-20\n",
      "Getting tweets per day for global (state: False), topic id: 4, start_date: 2020-04-21, end_date: 2020-04-27\n",
      "Getting tweets per day for global (state: False), topic id: 4, start_date: 2020-04-28, end_date: 2020-05-04\n",
      "Getting tweets per day for global (state: False), topic id: 4, start_date: 2020-05-05, end_date: 2020-05-11\n",
      "Getting tweets per day for global (state: False), topic id: 4, start_date: 2020-05-12, end_date: 2020-05-18\n",
      "Getting tweets per day for global (state: False), topic id: 4, start_date: 2020-05-19, end_date: 2020-05-25\n",
      "Getting tweets per day for global (state: False), topic id: 4, start_date: 2020-05-26, end_date: 2020-06-01\n",
      "Getting tweets per day for global (state: False), topic id: 4, start_date: 2020-06-02, end_date: 2020-06-08\n",
      "Getting tweets per day for global (state: False), topic id: 4, start_date: 2020-06-09, end_date: 2020-06-13\n",
      "Getting tweets per day for global (state: False), topic id: 5, start_date: 2019-12-31, end_date: 2020-01-06\n",
      "Getting tweets per day for global (state: False), topic id: 5, start_date: 2020-01-07, end_date: 2020-01-13\n",
      "Getting tweets per day for global (state: False), topic id: 5, start_date: 2020-01-14, end_date: 2020-01-20\n",
      "Getting tweets per day for global (state: False), topic id: 5, start_date: 2020-01-21, end_date: 2020-01-27\n",
      "Getting tweets per day for global (state: False), topic id: 5, start_date: 2020-01-28, end_date: 2020-02-03\n",
      "Getting tweets per day for global (state: False), topic id: 5, start_date: 2020-02-04, end_date: 2020-02-10\n",
      "Getting tweets per day for global (state: False), topic id: 5, start_date: 2020-02-11, end_date: 2020-02-17\n",
      "Getting tweets per day for global (state: False), topic id: 5, start_date: 2020-02-18, end_date: 2020-02-24\n",
      "Getting tweets per day for global (state: False), topic id: 5, start_date: 2020-02-25, end_date: 2020-03-02\n",
      "Getting tweets per day for global (state: False), topic id: 5, start_date: 2020-03-03, end_date: 2020-03-09\n",
      "Getting tweets per day for global (state: False), topic id: 5, start_date: 2020-03-10, end_date: 2020-03-16\n",
      "Getting tweets per day for global (state: False), topic id: 5, start_date: 2020-03-17, end_date: 2020-03-23\n",
      "Getting tweets per day for global (state: False), topic id: 5, start_date: 2020-03-24, end_date: 2020-03-30\n",
      "Getting tweets per day for global (state: False), topic id: 5, start_date: 2020-03-31, end_date: 2020-04-06\n",
      "Getting tweets per day for global (state: False), topic id: 5, start_date: 2020-04-07, end_date: 2020-04-13\n",
      "Getting tweets per day for global (state: False), topic id: 5, start_date: 2020-04-14, end_date: 2020-04-20\n",
      "Getting tweets per day for global (state: False), topic id: 5, start_date: 2020-04-21, end_date: 2020-04-27\n",
      "Getting tweets per day for global (state: False), topic id: 5, start_date: 2020-04-28, end_date: 2020-05-04\n",
      "Getting tweets per day for global (state: False), topic id: 5, start_date: 2020-05-05, end_date: 2020-05-11\n",
      "Getting tweets per day for global (state: False), topic id: 5, start_date: 2020-05-12, end_date: 2020-05-18\n",
      "Getting tweets per day for global (state: False), topic id: 5, start_date: 2020-05-19, end_date: 2020-05-25\n",
      "Getting tweets per day for global (state: False), topic id: 5, start_date: 2020-05-26, end_date: 2020-06-01\n",
      "Getting tweets per day for global (state: False), topic id: 5, start_date: 2020-06-02, end_date: 2020-06-08\n",
      "Getting tweets per day for global (state: False), topic id: 5, start_date: 2020-06-09, end_date: 2020-06-13\n",
      "Getting tweets per day for global (state: False), topic id: 8, start_date: 2019-12-31, end_date: 2020-01-06\n",
      "Getting tweets per day for global (state: False), topic id: 8, start_date: 2020-01-07, end_date: 2020-01-13\n",
      "Getting tweets per day for global (state: False), topic id: 8, start_date: 2020-01-14, end_date: 2020-01-20\n",
      "Getting tweets per day for global (state: False), topic id: 8, start_date: 2020-01-21, end_date: 2020-01-27\n",
      "Getting tweets per day for global (state: False), topic id: 8, start_date: 2020-01-28, end_date: 2020-02-03\n",
      "Getting tweets per day for global (state: False), topic id: 8, start_date: 2020-02-04, end_date: 2020-02-10\n",
      "Getting tweets per day for global (state: False), topic id: 8, start_date: 2020-02-11, end_date: 2020-02-17\n",
      "Getting tweets per day for global (state: False), topic id: 8, start_date: 2020-02-18, end_date: 2020-02-24\n"
     ]
    },
    {
     "name": "stdout",
     "output_type": "stream",
     "text": [
      "Getting tweets per day for global (state: False), topic id: 8, start_date: 2020-02-25, end_date: 2020-03-02\n",
      "Getting tweets per day for global (state: False), topic id: 8, start_date: 2020-03-03, end_date: 2020-03-09\n",
      "Getting tweets per day for global (state: False), topic id: 8, start_date: 2020-03-10, end_date: 2020-03-16\n",
      "Getting tweets per day for global (state: False), topic id: 8, start_date: 2020-03-17, end_date: 2020-03-23\n",
      "Getting tweets per day for global (state: False), topic id: 8, start_date: 2020-03-24, end_date: 2020-03-30\n",
      "Getting tweets per day for global (state: False), topic id: 8, start_date: 2020-03-31, end_date: 2020-04-06\n",
      "Getting tweets per day for global (state: False), topic id: 8, start_date: 2020-04-07, end_date: 2020-04-13\n",
      "Getting tweets per day for global (state: False), topic id: 8, start_date: 2020-04-14, end_date: 2020-04-20\n",
      "Getting tweets per day for global (state: False), topic id: 8, start_date: 2020-04-21, end_date: 2020-04-27\n",
      "Getting tweets per day for global (state: False), topic id: 8, start_date: 2020-04-28, end_date: 2020-05-04\n",
      "Getting tweets per day for global (state: False), topic id: 8, start_date: 2020-05-05, end_date: 2020-05-11\n",
      "Getting tweets per day for global (state: False), topic id: 8, start_date: 2020-05-12, end_date: 2020-05-18\n",
      "Getting tweets per day for global (state: False), topic id: 8, start_date: 2020-05-19, end_date: 2020-05-25\n",
      "Getting tweets per day for global (state: False), topic id: 8, start_date: 2020-05-26, end_date: 2020-06-01\n",
      "Getting tweets per day for global (state: False), topic id: 8, start_date: 2020-06-02, end_date: 2020-06-08\n",
      "Getting tweets per day for global (state: False), topic id: 8, start_date: 2020-06-09, end_date: 2020-06-13\n",
      "Getting tweets per day for global (state: False), topic id: 9, start_date: 2019-12-31, end_date: 2020-01-06\n",
      "Getting tweets per day for global (state: False), topic id: 9, start_date: 2020-01-07, end_date: 2020-01-13\n",
      "Getting tweets per day for global (state: False), topic id: 9, start_date: 2020-01-14, end_date: 2020-01-20\n",
      "Getting tweets per day for global (state: False), topic id: 9, start_date: 2020-01-21, end_date: 2020-01-27\n",
      "Getting tweets per day for global (state: False), topic id: 9, start_date: 2020-01-28, end_date: 2020-02-03\n",
      "Getting tweets per day for global (state: False), topic id: 9, start_date: 2020-02-04, end_date: 2020-02-10\n",
      "Getting tweets per day for global (state: False), topic id: 9, start_date: 2020-02-11, end_date: 2020-02-17\n",
      "Getting tweets per day for global (state: False), topic id: 9, start_date: 2020-02-18, end_date: 2020-02-24\n",
      "Getting tweets per day for global (state: False), topic id: 9, start_date: 2020-02-25, end_date: 2020-03-02\n",
      "Getting tweets per day for global (state: False), topic id: 9, start_date: 2020-03-03, end_date: 2020-03-09\n",
      "Getting tweets per day for global (state: False), topic id: 9, start_date: 2020-03-10, end_date: 2020-03-16\n",
      "Getting tweets per day for global (state: False), topic id: 9, start_date: 2020-03-17, end_date: 2020-03-23\n",
      "Getting tweets per day for global (state: False), topic id: 9, start_date: 2020-03-24, end_date: 2020-03-30\n",
      "Getting tweets per day for global (state: False), topic id: 9, start_date: 2020-03-31, end_date: 2020-04-06\n",
      "Getting tweets per day for global (state: False), topic id: 9, start_date: 2020-04-07, end_date: 2020-04-13\n",
      "Getting tweets per day for global (state: False), topic id: 9, start_date: 2020-04-14, end_date: 2020-04-20\n",
      "Getting tweets per day for global (state: False), topic id: 9, start_date: 2020-04-21, end_date: 2020-04-27\n",
      "Getting tweets per day for global (state: False), topic id: 9, start_date: 2020-04-28, end_date: 2020-05-04\n",
      "Getting tweets per day for global (state: False), topic id: 9, start_date: 2020-05-05, end_date: 2020-05-11\n",
      "Getting tweets per day for global (state: False), topic id: 9, start_date: 2020-05-12, end_date: 2020-05-18\n",
      "Getting tweets per day for global (state: False), topic id: 9, start_date: 2020-05-19, end_date: 2020-05-25\n",
      "Getting tweets per day for global (state: False), topic id: 9, start_date: 2020-05-26, end_date: 2020-06-01\n",
      "Getting tweets per day for global (state: False), topic id: 9, start_date: 2020-06-02, end_date: 2020-06-08\n",
      "Getting tweets per day for global (state: False), topic id: 9, start_date: 2020-06-09, end_date: 2020-06-13\n"
     ]
    }
   ],
   "source": [
    "tweets_per_topic_per_week = {}\n",
    "for topic in topics_to_show:\n",
    "    tweets_per_topic_per_week[topic] = get_topic_tweets_per_week(twitter_model, twitter_corpus, topic, *start_date, *end_date)"
   ]
  },
  {
   "cell_type": "code",
   "execution_count": 28,
   "metadata": {},
   "outputs": [],
   "source": [
    "tweet_count_per_topic_per_week = {topic_id: [len(weekly_tweets) for weekly_tweets in topic_week_tweets] for topic_id, topic_week_tweets in tweets_per_topic_per_week.items()}"
   ]
  },
  {
   "cell_type": "code",
   "execution_count": 29,
   "metadata": {},
   "outputs": [],
   "source": [
    "from PIL import Image\n",
    "\n",
    "def add_topic_labels(fig, id_location_size_map):\n",
    "    for topic_id, (location, size) in id_location_size_map.items():\n",
    "        img = Image.open('{}/topic{}.png'.format(twitter_model_path, topic_id))\n",
    "        img.thumbnail(size)\n",
    "        fig.figimage(img, *location)"
   ]
  },
  {
   "cell_type": "code",
   "execution_count": 30,
   "metadata": {},
   "outputs": [
    {
     "data": {
      "text/plain": [
       "5482094"
      ]
     },
     "execution_count": 30,
     "metadata": {},
     "output_type": "execute_result"
    }
   ],
   "source": [
    "len(tweet_id_topic_dict)"
   ]
  },
  {
   "cell_type": "code",
   "execution_count": 31,
   "metadata": {},
   "outputs": [],
   "source": [
    "import pandas as pd\n",
    "\n",
    "num_weeks = len(list(tweet_count_per_topic_per_week.items())[0][1])\n",
    "start_date_obj = datetime.date(*(reversed(start_date)))\n",
    "d = {'t{}'.format(i) : tweet_count_per_topic_per_week[i] for i in topics_to_show}\n",
    "df = pd.DataFrame(d, index=[start_date_obj + datetime.timedelta(days=i*7) for i in range(num_weeks)])\n",
    "df.to_csv('{}/tweet_topic_count_per_week.csv'.format(output_path))\n",
    "\n",
    "relative_df = df.divide(df.sum(axis=1), axis=0)"
   ]
  },
  {
   "cell_type": "code",
   "execution_count": 32,
   "metadata": {
    "scrolled": true
   },
   "outputs": [
    {
     "data": {
      "image/png": "[encoded data removed]",
      "text/plain": [
       "<Figure size 1656x1080 with 1 Axes>"
      ]
     },
     "metadata": {
      "needs_background": "light"
     },
     "output_type": "display_data"
    }
   ],
   "source": [
    "import matplotlib.pyplot as plt\n",
    "import matplotlib.dates as mdates\n",
    "from matplotlib.offsetbox import TextArea, DrawingArea, OffsetImage, AnnotationBbox\n",
    "\n",
    "\n",
    "plot = relative_df.plot.area(figsize=(23, 15), colormap='gist_ncar')\n",
    "fig = plot.get_figure()\n",
    "    \n",
    "ax = plot.axes\n",
    "ax.xaxis.set_major_locator(mdates.WeekdayLocator(interval=2))\n",
    "ax.xaxis.set_major_formatter(mdates.DateFormatter('%d-%b-%Y'))\n",
    "\n",
    "fig.autofmt_xdate()\n",
    "\n",
    "id_location_size_map = {}\n",
    "add_topic_labels(fig, id_location_size_map)\n",
    "fig.savefig('{}/tweet_topic_count_per_week.png'.format(output_path))"
   ]
  },
  {
   "cell_type": "markdown",
   "metadata": {},
   "source": [
    "## Topic Volume with Sorted Sentiment"
   ]
  },
  {
   "cell_type": "code",
   "execution_count": 33,
   "metadata": {},
   "outputs": [],
   "source": [
    "from math import ceil\n",
    "\n",
    "start_date_obj = datetime.date(start_date[2], start_date[1], start_date[0])\n",
    "x = pd.date_range(start_date_obj, datetime.date(end_date[2], end_date[1], end_date[0]))\n",
    "num_weeks = ceil(len(x) / 7)\n",
    "x = [start_date_obj + datetime.timedelta(days=7*i) for i in range(num_weeks)]"
   ]
  },
  {
   "cell_type": "code",
   "execution_count": 34,
   "metadata": {},
   "outputs": [
    {
     "name": "stdout",
     "output_type": "stream",
     "text": [
      "Getting tweets per day for global (state: False), topic id: 0, start_date: 2019-12-31, end_date: 2020-06-13\n",
      "Getting tweets per day for global (state: False), topic id: 1, start_date: 2019-12-31, end_date: 2020-06-13\n",
      "Getting tweets per day for global (state: False), topic id: 2, start_date: 2019-12-31, end_date: 2020-06-13\n",
      "Getting tweets per day for global (state: False), topic id: 3, start_date: 2019-12-31, end_date: 2020-06-13\n",
      "Getting tweets per day for global (state: False), topic id: 4, start_date: 2019-12-31, end_date: 2020-06-13\n",
      "Getting tweets per day for global (state: False), topic id: 5, start_date: 2019-12-31, end_date: 2020-06-13\n",
      "Getting tweets per day for global (state: False), topic id: 8, start_date: 2019-12-31, end_date: 2020-06-13\n",
      "Getting tweets per day for global (state: False), topic id: 9, start_date: 2019-12-31, end_date: 2020-06-13\n"
     ]
    },
    {
     "data": {
      "image/png": "[encoded data removed]",
      "text/plain": [
       "<Figure size 1152x720 with 1 Axes>"
      ]
     },
     "metadata": {
      "needs_background": "light"
     },
     "output_type": "display_data"
    }
   ],
   "source": [
    "fig, ax = plt.subplots(figsize=(16, 10))\n",
    "ax = plot.axes\n",
    "\n",
    "for topic in topics_to_show:\n",
    "    sentiment_values = np.array(get_weekly_sentiment_aggregate('global', False, topic, datetime.date(start_date[2], start_date[1], start_date[0]),\n",
    "                               datetime.date(end_date[2], end_date[1], end_date[0]), 'average', 0.2, tweets_per_day=None))\n",
    "    topic_volume = np.array(relative_df[f't{topic}'])\n",
    "    \n",
    "    Y = sentiment_values - topic_volume / 2\n",
    "    Y1 = sentiment_values + topic_volume / 2\n",
    "    \n",
    "    plt.fill_between(x, Y, Y1, where=Y1>=Y, facecolor=topic_colors[topic], interpolate=True, alpha=0.5)\n",
    "    plt.plot(x, Y, c=topic_colors[topic])\n",
    "    plt.plot(x, Y1, c=topic_colors[topic])\n",
    "\n",
    "ax.xaxis.set_major_locator(mdates.WeekdayLocator(interval=1))\n",
    "ax.xaxis.set_major_formatter(mdates.DateFormatter('%d-%b-%Y'))\n",
    "\n",
    "plt.xticks(x)\n",
    "\n",
    "fig.autofmt_xdate()\n",
    "plt.show()"
   ]
  },
  {
   "cell_type": "markdown",
   "metadata": {},
   "source": [
    "## Ordered Streamgraph"
   ]
  },
  {
   "cell_type": "code",
   "execution_count": 56,
   "metadata": {},
   "outputs": [],
   "source": [
    "topics_to_show = [0, 1, 2, 3, 4, 5, 8, 9]"
   ]
  },
  {
   "cell_type": "code",
   "execution_count": 57,
   "metadata": {},
   "outputs": [
    {
     "name": "stderr",
     "output_type": "stream",
     "text": [
      "100%|██████████████████████████| 17817582/17817582 [00:34<00:00, 521610.60it/s]\n"
     ]
    }
   ],
   "source": [
    "# sort topics by average sentiment\n",
    "\n",
    "topic_sentiments = {}\n",
    "average_topic_sentiment = {}\n",
    "\n",
    "for tweet, sentiment in tqdm(tweet_id_sentiment_dict.items()):\n",
    "    if tweet not in tweet_id_topic_dict:\n",
    "        continue\n",
    "    topic_id = tweet_id_topic_dict[tweet][0]\n",
    "    if topic_id in topics_to_show:\n",
    "        if topic_id in topic_sentiments:\n",
    "            topic_sentiments[topic_id].append(sentiment)\n",
    "        else:\n",
    "            topic_sentiments[topic_id] = [sentiment]"
   ]
  },
  {
   "cell_type": "code",
   "execution_count": 58,
   "metadata": {},
   "outputs": [],
   "source": [
    "average_topic_sentiment = {topic_id: np.mean(sentiment_list) for topic_id, sentiment_list in topic_sentiments.items()}"
   ]
  },
  {
   "cell_type": "code",
   "execution_count": 59,
   "metadata": {},
   "outputs": [
    {
     "data": {
      "text/plain": [
       "{0: 0.2628537589336674,\n",
       " 3: 0.09551235931094228,\n",
       " 2: -0.09650626652181786,\n",
       " 8: 0.14432893183472142,\n",
       " 1: 0.146866868913489,\n",
       " 4: 0.531460820578768,\n",
       " 5: 0.23048950168687452,\n",
       " 9: 0.09773459060402685}"
      ]
     },
     "execution_count": 59,
     "metadata": {},
     "output_type": "execute_result"
    }
   ],
   "source": [
    "average_topic_sentiment"
   ]
  },
  {
   "cell_type": "code",
   "execution_count": 60,
   "metadata": {},
   "outputs": [],
   "source": [
    "sorted_topics_descending = [topic for (topic, _) in sorted(list(average_topic_sentiment.items()), key=lambda tup: tup[1], reverse=True)]"
   ]
  },
  {
   "cell_type": "code",
   "execution_count": 61,
   "metadata": {},
   "outputs": [],
   "source": [
    "import colorsys\n",
    "import numpy as np\n",
    "\n",
    "# colorsys - hue of red = 0, hue of green = 1/3\n",
    "# reduce [-1.0, 1.0] to this range\n",
    "\n",
    "for topic, sentiment in average_topic_sentiment.items():\n",
    "    rgb = colorsys.hsv_to_rgb((sentiment + 0.3) / 3, 1.0, 1.0)\n",
    "    topic_colors[topic] = '#%02x%02x%02x' % tuple([int(round(255*x)) for x in rgb])"
   ]
  },
  {
   "cell_type": "code",
   "execution_count": 62,
   "metadata": {},
   "outputs": [],
   "source": [
    "# we need to convert the df to json like this:\n",
    "# [{\"series\": \"t0\", \"count\": <num_tweets_that_week>, \"date\": \"2000-01-01T08:00:00.000Z\"}]\n",
    "\n",
    "df_json = []\n",
    "\n",
    "for topic in reversed(sorted_topics_descending):\n",
    "    series = f't{topic}: {topic_names[topic]}'\n",
    "    for date in df[f't{topic}'].index:\n",
    "        date_str = date.strftime('%Y-%m-%dT%H:%M:%S.000Z')\n",
    "        count = int(df[f't{topic}'][date])\n",
    "        df_json.append({'series': series, 'count': count, 'date': date_str, 'color': topic_colors[topic]})"
   ]
  },
  {
   "cell_type": "code",
   "execution_count": 82,
   "metadata": {},
   "outputs": [],
   "source": [
    "# temporary\n",
    "topic_colors[8] = '#1f85de'\n",
    "topic_colors[9] = '#00ffeb'"
   ]
  },
  {
   "cell_type": "code",
   "execution_count": 83,
   "metadata": {},
   "outputs": [],
   "source": [
    "with open('topic_volume.json', 'w') as f:\n",
    "    json.dump(df_json, f)"
   ]
  },
  {
   "cell_type": "code",
   "execution_count": 84,
   "metadata": {},
   "outputs": [],
   "source": [
    "order_str = '{'\n",
    "for i, topic in enumerate(reversed(sorted_topics_descending)):\n",
    "    order_str += f\"'{topic_names[topic]}': {i}, \"\n",
    "order_str = order_str[:-2] + '}'"
   ]
  },
  {
   "cell_type": "code",
   "execution_count": 129,
   "metadata": {
    "scrolled": true
   },
   "outputs": [
    {
     "data": {
      "text/html": [
       "\n",
       "<div id=\"altair-viz-fa2ff76c46a74192ac6960c80799eebb\"></div>\n",
       "<script type=\"text/javascript\">\n",
       "  (function(spec, embedOpt){\n",
       "    let outputDiv = document.currentScript.previousElementSibling;\n",
       "    if (outputDiv.id !== \"altair-viz-fa2ff76c46a74192ac6960c80799eebb\") {\n",
       "      outputDiv = document.getElementById(\"altair-viz-fa2ff76c46a74192ac6960c80799eebb\");\n",
       "    }\n",
       "    const paths = {\n",
       "      \"vega\": \"https://cdn.jsdelivr.net/npm//vega@5?noext\",\n",
       "      \"vega-lib\": \"https://cdn.jsdelivr.net/npm//vega-lib?noext\",\n",
       "      \"vega-lite\": \"https://cdn.jsdelivr.net/npm//vega-lite@4.8.1?noext\",\n",
       "      \"vega-embed\": \"https://cdn.jsdelivr.net/npm//vega-embed@6?noext\",\n",
       "    };\n",
       "\n",
       "    function loadScript(lib) {\n",
       "      return new Promise(function(resolve, reject) {\n",
       "        var s = document.createElement('script');\n",
       "        s.src = paths[lib];\n",
       "        s.async = true;\n",
       "        s.onload = () => resolve(paths[lib]);\n",
       "        s.onerror = () => reject(`Error loading script: ${paths[lib]}`);\n",
       "        document.getElementsByTagName(\"head\")[0].appendChild(s);\n",
       "      });\n",
       "    }\n",
       "\n",
       "    function showError(err) {\n",
       "      outputDiv.innerHTML = `<div class=\"error\" style=\"color:red;\">${err}</div>`;\n",
       "      throw err;\n",
       "    }\n",
       "\n",
       "    function displayChart(vegaEmbed) {\n",
       "      vegaEmbed(outputDiv, spec, embedOpt)\n",
       "        .catch(err => showError(`Javascript Error: ${err.message}<br>This usually means there's a typo in your chart specification. See the javascript console for the full traceback.`));\n",
       "    }\n",
       "\n",
       "    if(typeof define === \"function\" && define.amd) {\n",
       "      requirejs.config({paths});\n",
       "      require([\"vega-embed\"], displayChart, err => showError(`Error loading script: ${err.message}`));\n",
       "    } else if (typeof vegaEmbed === \"function\") {\n",
       "      displayChart(vegaEmbed);\n",
       "    } else {\n",
       "      loadScript(\"vega\")\n",
       "        .then(() => loadScript(\"vega-lite\"))\n",
       "        .then(() => loadScript(\"vega-embed\"))\n",
       "        .catch(showError)\n",
       "        .then(() => displayChart(vegaEmbed));\n",
       "    }\n",
       "  })({\"config\": {\"view\": {\"continuousWidth\": 400, \"continuousHeight\": 300}, \"font\": \"calibri\"}, \"data\": {\"url\": \"topic_volume.json\"}, \"mark\": \"area\", \"encoding\": {\"color\": {\"type\": \"nominal\", \"field\": \"series\", \"legend\": null, \"scale\": {\"range\": [\"#ff6800\", \"#ffca00\", \"#00ffeb\", \"#1f85de\", \"#ffe400\", \"#efff00\", \"#dfff00\", \"#56ff00\"]}, \"sort\": {\"field\": \"order\"}}, \"order\": {\"type\": \"ordinal\", \"field\": \"order\"}, \"x\": {\"type\": \"temporal\", \"axis\": {\"domain\": false, \"format\": \"%Y-%m-%d\", \"tickSize\": 0}, \"field\": \"date\"}, \"y\": {\"type\": \"quantitative\", \"aggregate\": \"sum\", \"axis\": null, \"field\": \"count\", \"stack\": \"center\"}}, \"height\": 500, \"transform\": [{\"calculate\": \"{'online education': 0, 'interracial tension': 1, 'well-wishing': 2, 'leisure and art': 3, 'call for action': 4, 'PPE for healthcare professionals': 5, 'everyday life': 6, 'epidemiological information': 7}[datum.variable]\", \"as\": \"order\"}], \"width\": 800, \"$schema\": \"https://vega.github.io/schema/vega-lite/v4.8.1.json\"}, {\"mode\": \"vega-lite\"});\n",
       "</script>"
      ],
      "text/plain": [
       "alt.Chart(...)"
      ]
     },
     "execution_count": 129,
     "metadata": {},
     "output_type": "execute_result"
    }
   ],
   "source": [
    "import altair as alt\n",
    "\n",
    "alt.Chart('topic_volume.json').transform_calculate(\n",
    "    order=order_str + '[datum.variable]'\n",
    ").mark_area().encode(\n",
    "    alt.X('date:T',\n",
    "        axis=alt.Axis(format='%Y-%m-%d', domain=False, tickSize=0)\n",
    "    ),\n",
    "    alt.Y('sum(count):Q', stack='center', axis=None),\n",
    "    alt.Color('series:N',\n",
    "        scale=alt.Scale(range=[topic_colors[topic] for topic in reversed(sorted_topics_descending)]),\n",
    "        legend=None,\n",
    "        sort=alt.SortField('order')\n",
    "    ),\n",
    "    order='order:O'\n",
    ").properties(\n",
    "    width=800,\n",
    "    height=500\n",
    ").configure(\n",
    "    font='calibri'\n",
    ")"
   ]
  },
  {
   "cell_type": "code",
   "execution_count": 127,
   "metadata": {},
   "outputs": [
    {
     "data": {
      "image/png": "[encoded data removed]",
      "text/plain": [
       "<Figure size 432x288 with 1 Axes>"
      ]
     },
     "metadata": {
      "needs_background": "light"
     },
     "output_type": "display_data"
    }
   ],
   "source": [
    "# legend\n",
    "\n",
    "import matplotlib.pyplot as plt\n",
    "\n",
    "colors = [topic_colors[topic] for topic in sorted_topics_descending]\n",
    "f = lambda m,c: plt.plot([],[],marker=m, color=c, ls=\"none\")[0]\n",
    "handles = [f(\"s\", colors[i]) for i in range(len(sorted_topics_descending))]\n",
    "labels = [f't{topic} - {topic_names[topic]}' for topic in sorted_topics_descending]\n",
    "legend = plt.legend(handles, labels, loc=3, framealpha=1, frameon=False)\n",
    "\n",
    "def export_legend(legend, filename=\"legend.png\"):\n",
    "    fig  = legend.figure\n",
    "    fig.canvas.draw()\n",
    "    bbox  = legend.get_window_extent().transformed(fig.dpi_scale_trans.inverted())\n",
    "    fig.savefig(filename, dpi=\"figure\", bbox_inches=bbox)\n",
    "\n",
    "export_legend(legend)\n",
    "plt.show()"
   ]
  },
  {
   "cell_type": "code",
   "execution_count": 176,
   "metadata": {},
   "outputs": [
    {
     "name": "stdout",
     "output_type": "stream",
     "text": [
      "Frame 0 - 2019-12-31 00:00:00 to 2020-02-22 16:00:00\n",
      "Percentage for topic t0: 27.002307165285515%\n",
      "Percentage for topic t1: 30.005737651339633%\n",
      "Percentage for topic t2: 7.168432749642305%\n",
      "Percentage for topic t3: 16.862400468695906%\n",
      "Percentage for topic t4: 16.431955570726842%\n",
      "Percentage for topic t5: 2.040860792957941%\n",
      "Percentage for topic t8: 0.36411086982310115%\n",
      "Percentage for topic t9: 0.12419473152875725%\n",
      "Frame 1 - 2020-02-22 16:00:00 to 2020-04-16 08:00:00\n",
      "Percentage for topic t0: 20.218273184950476%\n",
      "Percentage for topic t1: 32.44485151915538%\n",
      "Percentage for topic t2: 7.341578659108279%\n",
      "Percentage for topic t3: 19.10112127766449%\n",
      "Percentage for topic t4: 18.120428789946356%\n",
      "Percentage for topic t5: 2.331465396758599%\n",
      "Percentage for topic t8: 0.2800357703149706%\n",
      "Percentage for topic t9: 0.1622454021014544%\n",
      "Frame 2 - 2020-04-16 08:00:00 to 2020-06-09 00:00:00\n",
      "Percentage for topic t0: 17.29300024998104%\n",
      "Percentage for topic t1: 36.935541405567555%\n",
      "Percentage for topic t2: 12.353908551879492%\n",
      "Percentage for topic t3: 15.039027938892275%\n",
      "Percentage for topic t4: 15.617705960502995%\n",
      "Percentage for topic t5: 2.357545916461392%\n",
      "Percentage for topic t8: 0.24773402017262736%\n",
      "Percentage for topic t9: 0.15553595654262176%\n"
     ]
    }
   ],
   "source": [
    "from datetime import datetime\n",
    "\n",
    "# relative volumes in certain time frames\n",
    "\n",
    "num_frames = 3\n",
    "\n",
    "dates = [datetime.strptime(d['date'], '%Y-%m-%dT%H:%M:%S.000Z') for d in df_json]\n",
    "date_dividers = pd.date_range(min(dates), max(dates), num_frames + 1)\n",
    "\n",
    "frame_topic_tweet_count = {i: {f't{j}': 0 for j in topics_to_show} for i in range(num_frames)}\n",
    "\n",
    "for entry in df_json:   \n",
    "    # which frame is this entry in?\n",
    "    entry_date = datetime.strptime(entry['date'], '%Y-%m-%dT%H:%M:%S.000Z')\n",
    "    entry_frame = None\n",
    "    for i in range(len(date_dividers) - 1):\n",
    "        if date_dividers[i] <= entry_date < date_dividers[i+1]:\n",
    "            entry_frame = i\n",
    "            break\n",
    "    if entry_frame is None:\n",
    "        entry_frame = num_frames - 1\n",
    "    \n",
    "    frame_topic_tweet_count[entry_frame][entry['series'][:entry['series'].index(':')]] += entry['count']\n",
    "    \n",
    "for frame, topic_counts in frame_topic_tweet_count.items():\n",
    "    print(f'Frame {frame} - {date_dividers[frame]} to {date_dividers[frame+1]}')\n",
    "    all_counts = sum(topic_counts.values())\n",
    "    for topic in topic_counts:\n",
    "        print(f'Percentage for topic {topic}: {topic_counts[topic] / all_counts * 100.0}%')"
   ]
  }
 ],
 "metadata": {
  "kernelspec": {
   "display_name": "Python 3",
   "language": "python",
   "name": "python3"
  },
  "language_info": {
   "codemirror_mode": {
    "name": "ipython",
    "version": 3
   },
   "file_extension": ".py",
   "mimetype": "text/x-python",
   "name": "python",
   "nbconvert_exporter": "python",
   "pygments_lexer": "ipython3",
   "version": "3.7.7"
  }
 },
 "nbformat": 4,
 "nbformat_minor": 4
}
