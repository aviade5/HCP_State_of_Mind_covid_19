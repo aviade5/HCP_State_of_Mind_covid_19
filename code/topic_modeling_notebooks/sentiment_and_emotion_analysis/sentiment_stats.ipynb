{
 "cells": [
  {
   "cell_type": "code",
   "execution_count": null,
   "metadata": {},
   "outputs": [],
   "source": [
    "import json\n",
    "from datetime import datetime\n",
    "from tqdm import tqdm\n",
    "\n",
    "with open(r'C:\\Users\\iliapl\\Documents\\CoronaVirusProject\\data\\output_data\\twitter_over_time\\POI_Followers_13-06-20\\tweet_date_map.json', 'r') as f:\n",
    "    tweet_date_map = json.load(f)\n",
    "\n",
    "tweet_date_map = {tweet: datetime.strptime(date, '%Y-%m-%d %H:%M:%S') for (tweet, date) in tqdm(tweet_date_map.items())}\n"
   ]
  },
  {
   "cell_type": "code",
   "execution_count": null,
   "metadata": {},
   "outputs": [],
   "source": [
    "rise_week_tweets = [tweet for (tweet, date) in tqdm(tweet_date_map.items()) if date > datetime(2020, 5, 18, 0, 0, 0) and date < datetime(2020, 5, 26, 0, 0, 0)]"
   ]
  },
  {
   "cell_type": "code",
   "execution_count": null,
   "metadata": {},
   "outputs": [],
   "source": [
    "before_rise_week_tweets = [tweet for (tweet, date) in tqdm(tweet_date_map.items()) if date > datetime(2020, 5, 11, 0, 0, 0) and date < datetime(2020, 5, 19, 0, 0, 0)]"
   ]
  },
  {
   "cell_type": "code",
   "execution_count": null,
   "metadata": {},
   "outputs": [],
   "source": [
    "with open(r'C:\\Users\\iliapl\\Documents\\CoronaVirusProject\\data\\output_data\\sentiment_analysis\\POI_Followers_13-06-20\\tweet_id_sentiment_map.json', 'r') as f:\n",
    "    sentiment_map = json.load(f)"
   ]
  },
  {
   "cell_type": "code",
   "execution_count": null,
   "metadata": {},
   "outputs": [],
   "source": [
    "rise_week_sentiment = [sentiment_map[tweet] for tweet in rise_week_tweets]"
   ]
  },
  {
   "cell_type": "code",
   "execution_count": null,
   "metadata": {},
   "outputs": [],
   "source": [
    "before_rise_week_sentiment = [sentiment_map[tweet] for tweet in before_rise_week_tweets]"
   ]
  },
  {
   "cell_type": "code",
   "execution_count": null,
   "metadata": {},
   "outputs": [],
   "source": [
    "import sqlite3 as sql\n",
    "\n",
    "conn = sql.connect(r'C:\\Users\\iliapl\\Documents\\CoronaVirusProject\\data\\databases\\bad_actors_Coronavirus_Project_POI_Followers_13-06-20.db')\n",
    "cur = conn.cursor()\n",
    "\n",
    "tweet_sentiment_before = {}\n",
    "tweet_sentiment_rise_week = {}\n",
    "\n",
    "query = 'SELECT content FROM posts WHERE post_id = \\'{}\\''\n",
    "\n",
    "for tweet in tqdm(before_rise_week_tweets):\n",
    "    content = cur.execute(query.format(tweet)).fetchone()[0]\n",
    "    tweet_sentiment_before[tweet] = (content, sentiment_map[tweet])\n",
    "\n",
    "for tweet in tqdm(rise_week_tweets):\n",
    "    content = cur.execute(query.format(tweet)).fetchone()[0]\n",
    "    tweet_sentiment_rise_week[tweet] = (content, sentiment_map[tweet])"
   ]
  },
  {
   "cell_type": "code",
   "execution_count": null,
   "metadata": {
    "scrolled": true
   },
   "outputs": [],
   "source": [
    "cummings_tweets = []\n",
    "test_tweets = []\n",
    "\n",
    "for (tweet_id, (tweet, sentiment)) in tweet_sentiment_rise_week.items():\n",
    "    if 'dominic' in tweet.lower() or 'cummings' in tweet.lower() or 'boris' in tweet.lower() or 'johnson' in tweet.lower() or 'minister' in tweet.lower() or 'prime' in tweet.lower():\n",
    "        #print(tweet, sentiment)\n",
    "        cummings_tweets.append(tweet_id)\n",
    "        \n",
    "    if sentiment < -0.4:\n",
    "        test_tweets.append(tweet)"
   ]
  },
  {
   "cell_type": "code",
   "execution_count": null,
   "metadata": {
    "scrolled": true
   },
   "outputs": [],
   "source": [
    "word_counts = {}\n",
    "for tweet in test_tweets:\n",
    "    for word in tweet.split():\n",
    "        word_counts[word] = word_counts.get(word, 0) + 1\n",
    "\n",
    "sorted_words = sorted(list(word_counts.items()), key=lambda tup: tup[1], reverse=True)\n",
    "rise_week_words = set([word for (word, _) in sorted_words[:500]])"
   ]
  },
  {
   "cell_type": "code",
   "execution_count": null,
   "metadata": {},
   "outputs": [],
   "source": [
    "cummings_tweets = []\n",
    "test_tweets = []\n",
    "\n",
    "for (tweet_id, (tweet, sentiment)) in tweet_sentiment_before.items():\n",
    "    if 'cummings' in tweet.lower():\n",
    "        #print(tweet, sentiment)\n",
    "        cummings_tweets.append(tweet_id)\n",
    "        \n",
    "    if sentiment < -0.4:\n",
    "        test_tweets.append(tweet)"
   ]
  },
  {
   "cell_type": "code",
   "execution_count": null,
   "metadata": {},
   "outputs": [],
   "source": [
    "word_counts = {}\n",
    "for tweet in test_tweets:\n",
    "    for word in tweet.split():\n",
    "        word_counts[word] = word_counts.get(word, 0) + 1\n",
    "\n",
    "sorted_words = sorted(list(word_counts.items()), key=lambda tup: tup[1], reverse=True)\n",
    "before_words = set([word for (word, _) in sorted_words[:500]])"
   ]
  },
  {
   "cell_type": "code",
   "execution_count": null,
   "metadata": {},
   "outputs": [],
   "source": [
    "print(rise_week_words - before_words)"
   ]
  },
  {
   "cell_type": "code",
   "execution_count": null,
   "metadata": {
    "scrolled": true
   },
   "outputs": [],
   "source": [
    "len(cummings_tweets)"
   ]
  },
  {
   "cell_type": "code",
   "execution_count": null,
   "metadata": {
    "scrolled": true
   },
   "outputs": [],
   "source": [
    "cummings_sentiment = [sentiment_map[tweet] for tweet in cummings_tweets]\n",
    "print(np.mean(cummings_sentiment))\n"
   ]
  },
  {
   "cell_type": "code",
   "execution_count": null,
   "metadata": {
    "scrolled": false
   },
   "outputs": [],
   "source": [
    "print('with cummings mean sentiment: {}'.format(np.mean([sentiment for (_, (_, sentiment)) in tweet_sentiment_rise_week.items()])))"
   ]
  },
  {
   "cell_type": "code",
   "execution_count": null,
   "metadata": {
    "scrolled": true
   },
   "outputs": [],
   "source": [
    "print('without cummings mean sentiment: {}'.format(np.mean([sentiment for (_, (tweet, sentiment)) in tweet_sentiment_rise_week.items() if 'cummings' not in tweet.lower() and 'dominic' not in tweet.lower() and 'boris' not in tweet.lower() and 'johnson' not in tweet.lower() and 'minister' not in tweet.lower() and 'wife' not in tweet.lower() and 'prime' not in tweet.lower()])))"
   ]
  },
  {
   "cell_type": "code",
   "execution_count": null,
   "metadata": {
    "scrolled": true
   },
   "outputs": [],
   "source": [
    "print('with cummings mean sentiment: {}'.format(np.mean([sentiment for (_, (_, sentiment)) in tweet_sentiment_before.items()])))"
   ]
  },
  {
   "cell_type": "code",
   "execution_count": null,
   "metadata": {},
   "outputs": [],
   "source": [
    "print('without cummings mean sentiment: {}'.format(np.mean([sentiment for (_, (tweet, sentiment)) in tweet_sentiment_before.items() if 'cummings' not in tweet.lower() and 'dominic' not in tweet.lower() and 'boris' not in tweet.lower() and 'johnson' not in tweet.lower() and 'minister' not in tweet.lower() and 'wife' not in tweet.lower() and 'prime' not in tweet.lower()])))"
   ]
  },
  {
   "cell_type": "code",
   "execution_count": null,
   "metadata": {},
   "outputs": [],
   "source": [
    "with open('test.json', 'w') as f:\n",
    "    json.dump(cummings_tweets, f)"
   ]
  }
 ],
 "metadata": {
  "kernelspec": {
   "display_name": "Python 3",
   "language": "python",
   "name": "python3"
  },
  "language_info": {
   "codemirror_mode": {
    "name": "ipython",
    "version": 3
   },
   "file_extension": ".py",
   "mimetype": "text/x-python",
   "name": "python",
   "nbconvert_exporter": "python",
   "pygments_lexer": "ipython3",
   "version": "3.7.6"
  }
 },
 "nbformat": 4,
 "nbformat_minor": 4
}
