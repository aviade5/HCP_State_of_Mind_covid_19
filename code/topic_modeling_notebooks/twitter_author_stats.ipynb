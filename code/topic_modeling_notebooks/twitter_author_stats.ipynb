{
 "cells": [
  {
   "cell_type": "code",
   "execution_count": null,
   "metadata": {},
   "outputs": [],
   "source": [
    "db_path = r'D:\\iliapl\\topic_modeling\\data\\databases\\bad_actors_Coronavirus_Project_POI_Followers_13-06-20.db'\n",
    "author_stats_path = r'D:\\iliapl\\topic_modeling\\data\\output_data\\author_stats'"
   ]
  },
  {
   "cell_type": "code",
   "execution_count": null,
   "metadata": {},
   "outputs": [],
   "source": [
    "import json\n",
    "import pandas as pd\n",
    "\n",
    "# Load their tweets\n",
    "\n",
    "with open(f'{author_stats_path}/during_pandemic_top40_percent_author_tweets_english.json', 'r') as f:\n",
    "    during_pandemic_tweets = json.load(f)\n",
    "\n",
    "during_pandemic_tweets = pd.DataFrame({'post_id': during_pandemic_tweets})"
   ]
  },
  {
   "cell_type": "code",
   "execution_count": null,
   "metadata": {},
   "outputs": [],
   "source": [
    "import sqlite3 as sql\n",
    "\n",
    "# Load authors using tweets\n",
    "\n",
    "conn = sql.connect(db_path)\n",
    "during_pandemic_tweet_authors = pd.read_sql('SELECT post_id, author FROM posts WHERE date >= date(\\'2020-01-01\\')', conn)\n",
    "during_pandemic_authors = during_pandemic_tweet_authors[during_pandemic_tweet_authors['post_id'].isin(during_pandemic_tweets['post_id'])]['author']"
   ]
  },
  {
   "cell_type": "code",
   "execution_count": null,
   "metadata": {},
   "outputs": [],
   "source": [
    "during_pandemic_authors = during_pandemic_authors.drop_duplicates()"
   ]
  },
  {
   "cell_type": "code",
   "execution_count": null,
   "metadata": {},
   "outputs": [],
   "source": [
    "print(f'Number of authors with posts: {len(during_pandemic_authors)}')"
   ]
  },
  {
   "cell_type": "code",
   "execution_count": null,
   "metadata": {},
   "outputs": [],
   "source": [
    "# load author table appropriate rows\n",
    "\n",
    "authors_table = pd.read_sql('SELECT * FROM authors', conn)\n",
    "authors_table = authors_table[authors_table['author_screen_name'].isin(during_pandemic_authors)]"
   ]
  },
  {
   "cell_type": "code",
   "execution_count": null,
   "metadata": {},
   "outputs": [],
   "source": [
    "authors_table.columns"
   ]
  },
  {
   "cell_type": "code",
   "execution_count": null,
   "metadata": {},
   "outputs": [],
   "source": [
    "import numpy as np\n",
    "\n",
    "print('Friend count stats:')\n",
    "print(f'Min. friend count: {min(authors_table[\"friends_count\"])}')\n",
    "print(f'Max. friend count: {max(authors_table[\"friends_count\"])}')\n",
    "print(f'Average friend count: {np.mean(authors_table[\"friends_count\"])}')\n",
    "print(f'Median friend count: {np.median(authors_table[\"friends_count\"])}')\n",
    "print(f'Std friend count: {np.std(authors_table[\"friends_count\"])}')"
   ]
  },
  {
   "cell_type": "code",
   "execution_count": null,
   "metadata": {
    "scrolled": true
   },
   "outputs": [],
   "source": [
    "print('Follower count stats:')\n",
    "print(f'Min. follower count: {min(authors_table[\"followers_count\"])}')\n",
    "print(f'Max. follower count: {max(authors_table[\"followers_count\"])}')\n",
    "print(f'Average follower count: {np.mean(authors_table[\"followers_count\"])}')\n",
    "print(f'Median follower count: {np.median(authors_table[\"followers_count\"])}')\n",
    "print(f'Std follower count: {np.std(authors_table[\"followers_count\"])}')"
   ]
  },
  {
   "cell_type": "code",
   "execution_count": null,
   "metadata": {},
   "outputs": [],
   "source": [
    "print('Status count stats:')\n",
    "print(f'Min. status count: {min(authors_table[\"statuses_count\"])}')\n",
    "print(f'Max. status count: {max(authors_table[\"statuses_count\"])}')\n",
    "print(f'Average status count: {np.mean(authors_table[\"statuses_count\"])}')\n",
    "print(f'Median status count: {np.median(authors_table[\"statuses_count\"])}')\n",
    "print(f'Std status count: {np.std(authors_table[\"statuses_count\"])}')"
   ]
  },
  {
   "cell_type": "code",
   "execution_count": null,
   "metadata": {},
   "outputs": [],
   "source": [
    "authors_table['verified'].value_counts()"
   ]
  },
  {
   "cell_type": "code",
   "execution_count": null,
   "metadata": {},
   "outputs": [],
   "source": [
    "import pandas as pd\n",
    "\n",
    "labeled_authors_df = pd.read_csv(r'D:\\iliapl\\topic_modeling\\data\\databases\\person_organization_classification\\labeled_authors_V10.csv')\n",
    "unlabeled_authors_df = pd.read_csv(r'D:\\iliapl\\topic_modeling\\data\\databases\\person_organization_classification\\all_unlabeled_predictions_using_description_and_SVM_classifier_inbalanced_to_label_V10.csv')\n",
    "\n",
    "person_authors = set(labeled_authors_df[labeled_authors_df['author_sub_type'] == 'PERSON']['author_screen_name'])\n",
    "\n",
    "# get X% top confidence authors\n",
    "\n",
    "CONFIDENCE_PERCENTILE = 0.4\n",
    "\n",
    "person_sorted_by_confidence = unlabeled_authors_df[unlabeled_authors_df['str_automatic_prediction'] == 'PERSON'].sort_values(by=['confidence_to_organization'], ascending=True)\n",
    "max_organization_confidence = person_sorted_by_confidence.quantile(CONFIDENCE_PERCENTILE)[0]\n",
    "percentile_person_authors = person_sorted_by_confidence[unlabeled_authors_df['confidence_to_organization'] < max_organization_confidence]\n",
    "\n",
    "person_authors |= set(percentile_person_authors['author_screen_name'])\n",
    "\n",
    "print(f'Minimum confidence for {len(person_authors)} authors: {1 - percentile_person_authors.iloc[-1][\"confidence_to_organization\"]}')\n",
    "\n",
    "\n",
    "# get all authors with confidence > X%\n",
    "\n",
    "#MIN_CONFIDENCE = 0.9\n",
    "\n",
    "#person_authors |= set(unlabeled_authors_df[unlabeled_authors_df['confidence_to_organization'] < (1 - MIN_CONFIDENCE)]['author_screen_name'])"
   ]
  },
  {
   "cell_type": "code",
   "execution_count": null,
   "metadata": {},
   "outputs": [],
   "source": [
    "person_authors = pd.DataFrame({'author': list(person_authors)})"
   ]
  },
  {
   "cell_type": "code",
   "execution_count": null,
   "metadata": {},
   "outputs": [],
   "source": [
    "all_2019_posts = pd.read_sql('SELECT post_id, author, date FROM posts WHERE date < date(\\'2020-01-01\\') AND date >= date(\\'2019-01-01\\')', conn)"
   ]
  },
  {
   "cell_type": "code",
   "execution_count": null,
   "metadata": {},
   "outputs": [],
   "source": [
    "all_author_2019_posts = all_2019_posts[all_2019_posts['author'].isin(person_authors['author'])]"
   ]
  },
  {
   "cell_type": "code",
   "execution_count": null,
   "metadata": {},
   "outputs": [],
   "source": [
    "during_pandemic_tweets"
   ]
  },
  {
   "cell_type": "code",
   "execution_count": null,
   "metadata": {},
   "outputs": [],
   "source": [
    "during_pandemic_authors"
   ]
  },
  {
   "cell_type": "code",
   "execution_count": null,
   "metadata": {},
   "outputs": [],
   "source": [
    "authors_table[['author_guid', 'author_screen_name', 'author_osn_id']].reset_index(drop=True).to_csv('all_posted_authors_top40_percent.csv')"
   ]
  },
  {
   "cell_type": "code",
   "execution_count": null,
   "metadata": {},
   "outputs": [],
   "source": []
  }
 ],
 "metadata": {
  "kernelspec": {
   "display_name": "Python 3",
   "language": "python",
   "name": "python3"
  },
  "language_info": {
   "codemirror_mode": {
    "name": "ipython",
    "version": 3
   },
   "file_extension": ".py",
   "mimetype": "text/x-python",
   "name": "python",
   "nbconvert_exporter": "python",
   "pygments_lexer": "ipython3",
   "version": "3.7.6"
  }
 },
 "nbformat": 4,
 "nbformat_minor": 4
}
