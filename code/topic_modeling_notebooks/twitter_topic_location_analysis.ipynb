{
 "cells": [
  {
   "cell_type": "code",
   "execution_count": 12,
   "metadata": {},
   "outputs": [],
   "source": [
    "database_path = r'E:\\Research Databases\\bad_actors_Coronavirus_Project_POI_Followers_30-05-20.db'\n",
    "topic_map_file_path = r'C:\\Users\\Eli Wolfson\\Documents\\University\\Research\\FakeNews\\data\\twitter_over_time\\twitter_healthcare_workers_11-05\\tweet_topic_map.json'\n",
    "country_map_file_path = r'C:\\Users\\Eli Wolfson\\Documents\\University\\Research\\FakeNews\\data\\twitter_location_analysis\\POI_Followers_30-05-20\\tweet_countries.json'\n",
    "state_map_file_path = r'C:\\Users\\Eli Wolfson\\Documents\\University\\Research\\FakeNews\\data\\twitter_location_analysis\\POI_Followers_30-05-20\\tweet_states.json'\n",
    "state_code_name_path = r'C:\\Users\\Eli Wolfson\\Documents\\University\\Research\\FakeNews\\data\\twitter_location_analysis\\POI_Followers_30-05-20\\state_code_name.json'\n",
    "output_path = r'C:\\Users\\Eli Wolfson\\Documents\\University\\Research\\FakeNews\\data\\twitter_location_analysis\\POI_Followers_30-05-20\\topic_location_analysis'"
   ]
  },
  {
   "cell_type": "code",
   "execution_count": 13,
   "metadata": {},
   "outputs": [],
   "source": [
    "import os\n",
    "\n",
    "if not os.path.exists(output_path):\n",
    "    os.mkdir(output_path)"
   ]
  },
  {
   "cell_type": "code",
   "execution_count": 14,
   "metadata": {},
   "outputs": [],
   "source": [
    "import json\n",
    "\n",
    "with open(topic_map_file_path, 'r') as file_handle:\n",
    "    tweet_topic_map = json.load(file_handle)\n",
    "\n",
    "with open(country_map_file_path, 'r') as file_handle:\n",
    "    tweet_country_map = json.load(file_handle)\n",
    "\n",
    "with open(state_map_file_path, 'r') as file_handle:\n",
    "    tweet_state_map = json.load(file_handle)\n",
    "    \n",
    "with open(state_code_name_path, 'r') as file_handle:\n",
    "    state_code_name = json.load(file_handle)"
   ]
  },
  {
   "cell_type": "code",
   "execution_count": 20,
   "metadata": {},
   "outputs": [],
   "source": [
    "import pandas as pd\n",
    "\n",
    "tweets_with_countries_topic_map = {tweet_id : tweet_topic_map[tweet_id] for tweet_id in set(tweet_country_map.keys()) & set(tweet_topic_map.keys())}\n",
    "tweets_with_states_topic_map = {tweet_id : tweet_topic_map[tweet_id] for tweet_id in set(tweet_state_map.keys()) & set(tweet_topic_map.keys())}\n",
    "\n",
    "topic_country_count_map_list = []\n",
    "topic_state_count_map_list = []\n",
    "for topic in range(30):\n",
    "    countries = {}\n",
    "    topic_tweets_with_countries = [tweet_id for (tweet_id, tweet_topic_prob) in tweets_with_countries_topic_map.items() if eval(tweet_topic_prob)[0] == topic]\n",
    "    for tweet_id in topic_tweets_with_countries:\n",
    "        countries[tweet_country_map[tweet_id]] = countries.get(tweet_country_map[tweet_id], 0) + 1\n",
    "    topic_country_count_map_list.append(countries)\n",
    "    \n",
    "    states = {}\n",
    "    topic_tweets_with_states = [tweet_id for (tweet_id, tweet_topic_prob) in tweets_with_states_topic_map.items() if eval(tweet_topic_prob)[0] == topic]\n",
    "    for tweet_id in topic_tweets_with_states:\n",
    "        states[state_code_name[tweet_state_map[tweet_id]]] = states.get(state_code_name[tweet_state_map[tweet_id]], 0) + 1\n",
    "    topic_state_count_map_list.append(states)"
   ]
  },
  {
   "cell_type": "code",
   "execution_count": 21,
   "metadata": {},
   "outputs": [],
   "source": [
    "countries_df = pd.DataFrame(topic_country_count_map_list, index=['t{}'.format(i) for i in range(30)])\n",
    "countries_df.to_csv('{}/country_topics.csv'.format(output_path))\n",
    "\n",
    "states_df = pd.DataFrame(topic_state_count_map_list, index=['t{}'.format(i) for i in range(30)])\n",
    "states_df.to_csv('{}/state_topics.csv'.format(output_path))"
   ]
  },
  {
   "cell_type": "code",
   "execution_count": 22,
   "metadata": {},
   "outputs": [],
   "source": [
    "countries_df_percentage = countries_df.divide(countries_df.sum(), axis=1)\n",
    "countries_df.to_csv('{}/country_topics_percentage.csv'.format(output_path))\n",
    "\n",
    "states_df_percentage = states_df.divide(states_df.sum(), axis=1)\n",
    "states_df.to_csv('{}/state_topics_percentage.csv'.format(output_path))"
   ]
  },
  {
   "cell_type": "code",
   "execution_count": 70,
   "metadata": {},
   "outputs": [],
   "source": [
    "def get_most_discussed_topics(df, country_name):\n",
    "    values_list = df[country_name].sort_values(ascending=False)\n",
    "    return [(values_list.index[i], values_list[i]) for i, entry in enumerate(values_list)]"
   ]
  },
  {
   "cell_type": "code",
   "execution_count": 78,
   "metadata": {},
   "outputs": [],
   "source": [
    "def get_countries_topic_most_discussed(topic_id):\n",
    "    return [country for country in countries_df.columns if get_most_discussed_topics(countries_df, country)[0][0] == 't{}'.format(topic_id)]\n",
    "\n",
    "def get_states_topic_most_discussed(topic_id):\n",
    "    return [state for state in states_df.columns if get_most_discussed_topics(states_df, state)[0][0] == 't{}'.format(topic_id)]"
   ]
  },
  {
   "cell_type": "code",
   "execution_count": null,
   "metadata": {},
   "outputs": [],
   "source": []
  }
 ],
 "metadata": {
  "kernelspec": {
   "display_name": "Python 3",
   "language": "python",
   "name": "python3"
  },
  "language_info": {
   "codemirror_mode": {
    "name": "ipython",
    "version": 3
   },
   "file_extension": ".py",
   "mimetype": "text/x-python",
   "name": "python",
   "nbconvert_exporter": "python",
   "pygments_lexer": "ipython3",
   "version": "3.7.6"
  }
 },
 "nbformat": 4,
 "nbformat_minor": 4
}
