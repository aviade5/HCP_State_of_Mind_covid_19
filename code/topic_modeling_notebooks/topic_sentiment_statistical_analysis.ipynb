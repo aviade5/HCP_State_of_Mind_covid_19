{
 "cells": [
  {
   "cell_type": "code",
   "execution_count": 1,
   "metadata": {},
   "outputs": [],
   "source": [
    "# Perform statistical analysis on topics\n",
    "\n",
    "# Shapiro-Wilk test, ensure average value is representative of the sample \n",
    "# https://docs.scipy.org/doc/scipy/reference/generated/scipy.stats.shapiro.html\n",
    "\n",
    "# Provide measure of dataset variability (95% confidence interval)"
   ]
  },
  {
   "cell_type": "code",
   "execution_count": 7,
   "metadata": {},
   "outputs": [],
   "source": [
    "from scipy.stats import shapiro\n",
    "from scipy.stats import bayes_mvs\n",
    "import pandas as pd\n",
    "import matplotlib.pyplot as plt\n",
    "import matplotlib"
   ]
  },
  {
   "cell_type": "code",
   "execution_count": 3,
   "metadata": {},
   "outputs": [],
   "source": [
    "model_path = r'C:\\Users\\Eli Wolfson\\Documents\\University\\Research\\FakeNews\\additional_code\\70_PERCENT_CONFIDENCE_53K_INDIVIDUAL_HCP_AUTHORS_2020_NO_KEYWORDS_WITH_RETWEETS_20_TOPICS'\n",
    "NUM_TOPICS = 20"
   ]
  },
  {
   "cell_type": "code",
   "execution_count": 18,
   "metadata": {},
   "outputs": [
    {
     "name": "stdout",
     "output_type": "stream",
     "text": [
      "Topic 0: Mean(statistic=0.11843161854767005, minmax=(0.11761741173715531, 0.11924582535818479))\n",
      "\n",
      "Topic 1: Mean(statistic=0.27355524656368474, minmax=(0.27284897317797485, 0.2742615199493946))\n",
      "\n",
      "Topic 2: Mean(statistic=0.09705403002121062, minmax=(0.09597171644532085, 0.09813634359710038))\n",
      "\n",
      "Topic 3: Mean(statistic=0.04247108479993359, minmax=(0.040954408548284776, 0.043987761051582405))\n",
      "\n",
      "Topic 6: Mean(statistic=0.5636979945116226, minmax=(0.5627912000894756, 0.5646047889337696))\n",
      "\n",
      "Topic 8: Mean(statistic=0.10301415066797329, minmax=(0.10166706707548102, 0.10436123426046555))\n",
      "\n",
      "Topic 9: Mean(statistic=0.11295540352189283, minmax=(0.10892935566102738, 0.11698145138275828))\n",
      "\n",
      "Topic 10: Mean(statistic=0.48003424271793793, minmax=(0.4774333656106672, 0.4826351198252087))\n",
      "\n",
      "Topic 16: Mean(statistic=0.5004917300608777, minmax=(0.49806285492992663, 0.5029206051918287))\n",
      "\n"
     ]
    },
    {
     "data": {
      "image/png": "[encoded data removed]",
      "text/plain": [
       "<Figure size 720x432 with 9 Axes>"
      ]
     },
     "metadata": {
      "needs_background": "light"
     },
     "output_type": "display_data"
    }
   ],
   "source": [
    "matplotlib.rcParams['font.size'] = 12\n",
    "\n",
    "topics_to_show = [0, 1, 2, 3, 6, 8, 9, 10, 16]\n",
    "\n",
    "fig, ax = plt.subplots(nrows=3, ncols=3, figsize=(10, 6))\n",
    "\n",
    "for i, topic_id in enumerate(topics_to_show):\n",
    "    sentiment_values = pd.read_csv('{}/topic_{}_sentiment_values.csv'.format(model_path, topic_id))['sentiment_value']\n",
    "    \n",
    "    pvalue = shapiro(sentiment_values)[1]\n",
    "    if pvalue <= 0.05:\n",
    "        bayes_ci = bayes_mvs(sentiment_values, alpha=0.95)\n",
    "        #print('Topic {} is not normally distributed'.format(topic_id))\n",
    "        print('Topic {}:'.format(topic_id), bayes_ci[0])\n",
    "        #print(bayes_ci[1])\n",
    "        #print(bayes_ci[2])\n",
    "        print()\n",
    "    else:\n",
    "        print('Topic {} is normally distributed'.format(topic_id))\n",
    "    \n",
    "    \n",
    "    \n",
    "    \n",
    "    ax[i // 3][i % 3].hist(sentiment_values)\n",
    "    ax[i // 3][i % 3].set_title('Topic {}'.format(topic_id))\n",
    "    \n",
    "plt.tight_layout()\n",
    "plt.savefig('sentiment_distributions_for_each_topic.png')"
   ]
  },
  {
   "cell_type": "code",
   "execution_count": null,
   "metadata": {},
   "outputs": [],
   "source": []
  },
  {
   "cell_type": "code",
   "execution_count": null,
   "metadata": {},
   "outputs": [],
   "source": []
  }
 ],
 "metadata": {
  "kernelspec": {
   "display_name": "Python 3",
   "language": "python",
   "name": "python3"
  },
  "language_info": {
   "codemirror_mode": {
    "name": "ipython",
    "version": 3
   },
   "file_extension": ".py",
   "mimetype": "text/x-python",
   "name": "python",
   "nbconvert_exporter": "python",
   "pygments_lexer": "ipython3",
   "version": "3.7.6"
  }
 },
 "nbformat": 4,
 "nbformat_minor": 4
}
