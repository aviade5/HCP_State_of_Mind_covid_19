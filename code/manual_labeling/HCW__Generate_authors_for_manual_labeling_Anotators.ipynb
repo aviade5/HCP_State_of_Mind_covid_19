{
 "cells": [
  {
   "cell_type": "code",
   "execution_count": null,
   "metadata": {},
   "outputs": [],
   "source": [
    "import pandas as pd"
   ]
  },
  {
   "cell_type": "code",
   "execution_count": null,
   "metadata": {},
   "outputs": [],
   "source": [
    "need_to_label_via_classifier_path = \"C:/Users/iliapl/Documents/CoronaVirusProject/repo/corona_healthcare_workers/manual_labeling/datasets/Classification_results/\""
   ]
  },
  {
   "cell_type": "code",
   "execution_count": null,
   "metadata": {},
   "outputs": [],
   "source": [
    "target_field = 'Account_Type'\n",
    "#target_field = 'Occupation_Type'\n",
    "\n",
    "need_to_label_account_type_df = pd.read_csv(need_to_label_via_classifier_path + \"unlabeled_predictions_{0}_using_description_and_SVM_classifier_balanced.csv\".format(target_field))\n",
    "need_to_label_account_type_df.head()"
   ]
  },
  {
   "cell_type": "code",
   "execution_count": null,
   "metadata": {},
   "outputs": [],
   "source": [
    "#target_field = 'Account_Type'\n",
    "target_field = 'Occupation_Type'\n",
    "\n",
    "need_to_label_occupation_type_df = pd.read_csv(need_to_label_via_classifier_path + \"unlabeled_predictions_{0}_using_description_and_SVM_classifier_balanced.csv\".format(target_field))\n",
    "need_to_label_occupation_type_df.head()"
   ]
  },
  {
   "cell_type": "code",
   "execution_count": null,
   "metadata": {},
   "outputs": [],
   "source": [
    "confidence_range = (0.45, 0.55)"
   ]
  },
  {
   "cell_type": "code",
   "execution_count": null,
   "metadata": {},
   "outputs": [],
   "source": [
    "need_to_label_account_type_df = need_to_label_account_type_df[(need_to_label_account_type_df[\"confidence_to_class_1\"] > confidence_range[0]) & (need_to_label_account_type_df[\"confidence_to_class_1\"] < confidence_range[1])]\n",
    "print(need_to_label_account_type_df.shape)\n",
    "\n",
    "need_to_label_occupation_type_df = need_to_label_occupation_type_df[(need_to_label_occupation_type_df[\"confidence_to_class_1\"] > confidence_range[0]) & (need_to_label_occupation_type_df[\"confidence_to_class_1\"] < confidence_range[1])]\n",
    "print(need_to_label_occupation_type_df.shape)"
   ]
  },
  {
   "cell_type": "code",
   "execution_count": null,
   "metadata": {},
   "outputs": [],
   "source": [
    "# get intersection between the two low confidence classifier results\n",
    "\n",
    "need_to_label_df = need_to_label_account_type_df.merge(need_to_label_occupation_type_df, on=['author_screen_name', 'author_osn_id'])"
   ]
  },
  {
   "cell_type": "code",
   "execution_count": null,
   "metadata": {},
   "outputs": [],
   "source": [
    "need_to_label_df.shape"
   ]
  },
  {
   "cell_type": "code",
   "execution_count": null,
   "metadata": {},
   "outputs": [],
   "source": [
    "need_to_label_df.head()"
   ]
  },
  {
   "cell_type": "code",
   "execution_count": null,
   "metadata": {},
   "outputs": [],
   "source": [
    "class Annotator():\n",
    "    def __init__(self, aid):\n",
    "        self._aid = aid\n",
    "        self._users_to_review = []\n",
    "        self._user_ids_to_review = []\n",
    "        \n",
    "    def get_aid(self):\n",
    "        return self._aid\n",
    "    \n",
    "    def set_aid(self, aid):\n",
    "        self._aid = aid\n",
    "        \n",
    "    def add_user(self, username):\n",
    "        self._users_to_review.append(username)\n",
    "        \n",
    "        \n",
    "    def add_user_id(self, user_id):\n",
    "        self._user_ids_to_review.append(user_id)\n",
    "        \n",
    "    def get_users_to_review(self):\n",
    "        return self._users_to_review\n",
    "    \n",
    "    def get_user_ids_to_review(self):\n",
    "        return self._user_ids_to_review\n",
    "    \n",
    "    def get_users_count(self):\n",
    "        return len(self._users_to_review)\n",
    "    \n",
    "    def __repr__(self):\n",
    "        return \"aid: {0} users_count: {1}\".format(self._aid, len(self._users_to_review))"
   ]
  },
  {
   "cell_type": "code",
   "execution_count": null,
   "metadata": {},
   "outputs": [],
   "source": [
    "iteration_number = 20\n",
    "\n",
    "annotator_count = 3\n",
    "annotator_dict = {}\n",
    "for i in range(annotator_count):\n",
    "    annotator = Annotator(i)\n",
    "    aid = annotator.get_aid()\n",
    "    annotator_dict[aid] = annotator \n",
    "annotator_dict"
   ]
  },
  {
   "cell_type": "code",
   "execution_count": null,
   "metadata": {},
   "outputs": [],
   "source": [
    "def get_min_count_for_annotator():\n",
    "    annotators = annotator_dict.values()\n",
    "    assigned_users = [annotator.get_users_count() for annotator in annotators]\n",
    "    min_assigned_users = min(assigned_users)\n",
    "    return min_assigned_users\n",
    "\n",
    "\n",
    "def get_aid_to_assign_user(min_assigned_users):\n",
    "    annotators = annotator_dict.values()\n",
    "    annotator_to_assign = [annotator.get_aid() for annotator in annotators \n",
    "                           if annotator.get_users_count() == min_assigned_users][0]\n",
    "    return annotator_to_assign\n",
    "\n",
    "def assign_user_to_annotator(username, user_id):\n",
    "    min_assigned_users = get_min_count_for_annotator()\n",
    "    aid = get_aid_to_assign_user(min_assigned_users)\n",
    "    \n",
    "    annotator_dict[aid].add_user(username)\n",
    "    annotator_dict[aid].add_user_id(user_id)"
   ]
  },
  {
   "cell_type": "code",
   "execution_count": null,
   "metadata": {},
   "outputs": [],
   "source": [
    "#df = pd.read_csv(\"/home/aviade/HCW_Corona_TWINT/all_tweets.csv\", header=None, delimiter='\\t')\n",
    "path = \"C:/Users/iliapl/Documents/CoronaVirusProject/repo/corona_healthcare_workers/manual_labeling/datasets/\"\n",
    "file_name = \"top40percent_71972_authors.csv\"\n",
    "df = pd.read_csv(path + file_name)\n",
    "df.head()"
   ]
  },
  {
   "cell_type": "code",
   "execution_count": null,
   "metadata": {},
   "outputs": [],
   "source": [
    "import random \n",
    "\n",
    "random_users_count = 90\n",
    "need_to_label_df = need_to_label_df.sample(n=random_users_count)\n",
    "\n",
    "for i, row in need_to_label_df.iterrows():\n",
    "    username = row[\"author_screen_name\"]\n",
    "    user_id = row[\"author_osn_id\"]\n",
    "    assign_user_to_annotator(username, user_id)\n",
    "    assign_user_to_annotator(username, user_id)"
   ]
  },
  {
   "cell_type": "code",
   "execution_count": null,
   "metadata": {},
   "outputs": [],
   "source": [
    "import os\n",
    "\n",
    "output_path = \"C:/Users/iliapl/Documents/CoronaVirusProject/repo/corona_healthcare_workers/manual_labeling/datasets/Round_{0}/\".format(iteration_number)\n",
    "if not os.path.exists(output_path):\n",
    "    os.mkdir(output_path)\n",
    "\n",
    "annotators = annotator_dict.values()\n",
    "for annotator in annotators:\n",
    "    aid = annotator.get_aid()\n",
    "    \n",
    "    users = annotator.get_users_to_review()\n",
    "    users_series = pd.Series(users)\n",
    "    \n",
    "    user_ids = annotator.get_user_ids_to_review()\n",
    "    user_ids_series = pd.Series(user_ids)\n",
    "    \n",
    "    annotator_df = pd.DataFrame(users_series, columns = ['username'])\n",
    "    annotator_df[\"author_osn_id\"] = user_ids_series\n",
    "    annotator_df[\"url\"] = annotator_df[\"username\"].apply(lambda x: \"https://twitter.com/\" + str(x))\n",
    "    annotator_df[\"Account_Type (Individual/Organization/Other)\"] = \"\"\n",
    "    annotator_df[\"Occupation_Type (HCP/Not HCP)\"] = \"\"\n",
    "    annotator_df[\"Comments\"] = \"\"\n",
    "    \n",
    "    \n",
    "    annotator_df.to_csv(output_path + f\"annotator_{aid}_users_to_label_round_{iteration_number}.csv\", index=False)"
   ]
  },
  {
   "cell_type": "code",
   "execution_count": null,
   "metadata": {},
   "outputs": [],
   "source": []
  },
  {
   "cell_type": "code",
   "execution_count": null,
   "metadata": {},
   "outputs": [],
   "source": []
  }
 ],
 "metadata": {
  "kernelspec": {
   "display_name": "Python 3",
   "language": "python",
   "name": "python3"
  },
  "language_info": {
   "codemirror_mode": {
    "name": "ipython",
    "version": 3
   },
   "file_extension": ".py",
   "mimetype": "text/x-python",
   "name": "python",
   "nbconvert_exporter": "python",
   "pygments_lexer": "ipython3",
   "version": "3.7.6"
  }
 },
 "nbformat": 4,
 "nbformat_minor": 4
}
