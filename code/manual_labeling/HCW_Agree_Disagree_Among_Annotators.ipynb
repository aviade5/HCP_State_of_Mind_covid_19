{
 "cells": [
  {
   "cell_type": "code",
   "execution_count": null,
   "metadata": {},
   "outputs": [],
   "source": [
    "import pandas as pd"
   ]
  },
  {
   "cell_type": "code",
   "execution_count": null,
   "metadata": {
    "scrolled": true
   },
   "outputs": [],
   "source": [
    "round_number = 20\n",
    "after_summit = True\n",
    "\n",
    "input_path = \"C:/Users/iliapl/Documents/CoronaVirusProject/repo/corona_healthcare_workers/manual_labeling/datasets/Round_{0}/\".format(round_number)\n",
    "\n",
    "df1 = pd.read_csv(input_path + \"annotator_0_users_to_label_round_{0}{1}.csv\".format(round_number, '_after_summit' if after_summit else ''))\n",
    "df2 = pd.read_csv(input_path + \"annotator_1_users_to_label_round_{0}{1}.csv\".format(round_number, '_after_summit' if after_summit else ''))\n",
    "df3 = pd.read_csv(input_path + \"annotator_2_users_to_label_round_{0}{1}.csv\".format(round_number, '_after_summit' if after_summit else ''))"
   ]
  },
  {
   "cell_type": "code",
   "execution_count": null,
   "metadata": {},
   "outputs": [],
   "source": [
    "df1[\"Annotator\"] = 0\n",
    "df2[\"Annotator\"] = 1\n",
    "df3[\"Annotator\"] = 2"
   ]
  },
  {
   "cell_type": "code",
   "execution_count": null,
   "metadata": {},
   "outputs": [],
   "source": [
    "columns = [\"username\", \"url\", \"Account_Type (Individual/Organization/Other)\", \"Occupation_Type (HCP/Not HCP)\"]"
   ]
  },
  {
   "cell_type": "code",
   "execution_count": null,
   "metadata": {
    "scrolled": false
   },
   "outputs": [],
   "source": [
    "df_united = pd.concat([df1, df2, df3])\n",
    "df_united = df_united[[\"username\", \"url\", \"Account_Type (Individual/Organization/Other)\", \"Occupation_Type (HCP/Not HCP)\", \"Annotator\", \"Comments\"]]\n",
    "df_united.head()"
   ]
  },
  {
   "cell_type": "code",
   "execution_count": null,
   "metadata": {
    "scrolled": true
   },
   "outputs": [],
   "source": [
    "df_united.fillna(\"\")\n",
    "df_united.head()"
   ]
  },
  {
   "cell_type": "code",
   "execution_count": null,
   "metadata": {},
   "outputs": [],
   "source": [
    "df_united[\"Account_Type (Individual/Organization/Other)\"] = df_united[\"Account_Type (Individual/Organization/Other)\"].apply(lambda x: str(x).capitalize())\n",
    "df_united[\"Occupation_Type (HCP/Not HCP)\"] = df_united[\"Occupation_Type (HCP/Not HCP)\"].apply(lambda x: str(x).capitalize())"
   ]
  },
  {
   "cell_type": "code",
   "execution_count": null,
   "metadata": {
    "scrolled": true
   },
   "outputs": [],
   "source": [
    "df_united_gb = df_united.groupby(columns).size().reset_index(name='counts')\n",
    "df_united_gb"
   ]
  },
  {
   "cell_type": "code",
   "execution_count": null,
   "metadata": {},
   "outputs": [],
   "source": [
    "agreed_df = df_united_gb[df_united_gb[\"counts\"] == 2]\n",
    "not_agreed_df = df_united_gb[df_united_gb[\"counts\"] == 1]"
   ]
  },
  {
   "cell_type": "code",
   "execution_count": null,
   "metadata": {
    "scrolled": false
   },
   "outputs": [],
   "source": [
    "not_agreed_df"
   ]
  },
  {
   "cell_type": "code",
   "execution_count": null,
   "metadata": {},
   "outputs": [],
   "source": [
    "not_agreed_df.shape"
   ]
  },
  {
   "cell_type": "code",
   "execution_count": null,
   "metadata": {},
   "outputs": [],
   "source": [
    "not_agreed_with_comments_df = pd.merge(not_agreed_df, df_united, on=columns, how = 'inner')\n",
    "not_agreed_with_comments_df"
   ]
  },
  {
   "cell_type": "code",
   "execution_count": null,
   "metadata": {},
   "outputs": [],
   "source": [
    "agreed_df.to_csv(input_path + \"agreed_round_{0}_after_summit.csv\".format(round_number), index=False)\n",
    "not_agreed_with_comments_df.to_csv(input_path + \"not_agreed_round_{0}_after_summit.csv\".format(round_number), index=False)"
   ]
  },
  {
   "cell_type": "code",
   "execution_count": null,
   "metadata": {},
   "outputs": [],
   "source": [
    "# create csv of only individual hcps for this iteration\n",
    "\n",
    "agreed_df[(agreed_df['Account_Type (Individual/Organization/Other)'] == 'Individual') & ((agreed_df['Occupation_Type (HCP/Not HCP)'] == 'Hcp'))].to_csv(input_path + 'agreed_individual_hcps_only_iteration_{}.csv'.format(round_number), index=False)"
   ]
  },
  {
   "cell_type": "markdown",
   "metadata": {},
   "source": [
    "## Temporary - remove from rounds 1-3 users that are not relevant"
   ]
  },
  {
   "cell_type": "code",
   "execution_count": null,
   "metadata": {},
   "outputs": [],
   "source": [
    "valid_users_path = r'C:\\Users\\iliapl\\Documents\\CoronaVirusProject\\repo\\corona_healthcare_workers\\manual_labeling\\datasets\\top40percent_71972_authors.csv'\n",
    "datasets_path = 'C:/Users/iliapl/Documents/CoronaVirusProject/repo/corona_healthcare_workers/manual_labeling/datasets/'"
   ]
  },
  {
   "cell_type": "code",
   "execution_count": null,
   "metadata": {},
   "outputs": [],
   "source": [
    "import pandas as pd\n",
    "\n",
    "relevant_users = pd.read_csv(valid_users_path)"
   ]
  },
  {
   "cell_type": "code",
   "execution_count": null,
   "metadata": {
    "scrolled": true
   },
   "outputs": [],
   "source": [
    "for i in range(1, 4):\n",
    "    df = pd.read_csv(datasets_path + 'Round_{}/agreed_round_{}_after_summit.csv'.format(i, i))\n",
    "    df = df[df['username'].isin(relevant_users['author_screen_name'])]\n",
    "    df.to_csv(datasets_path + 'Round_{}/agreed_round_{}_after_summit.csv'.format(i, i), index=False)"
   ]
  },
  {
   "cell_type": "markdown",
   "metadata": {},
   "source": [
    "### Fix agreed after summit files with regards to changes in labelling policy"
   ]
  },
  {
   "cell_type": "code",
   "execution_count": null,
   "metadata": {},
   "outputs": [],
   "source": [
    "for i in range(1, 8):\n",
    "    df = pd.read_csv(datasets_path + 'Round_{}/agreed_round_{}_after_summit.csv'.format(i, i))\n",
    "    print(len(df))"
   ]
  }
 ],
 "metadata": {
  "kernelspec": {
   "display_name": "Python 3",
   "language": "python",
   "name": "python3"
  },
  "language_info": {
   "codemirror_mode": {
    "name": "ipython",
    "version": 3
   },
   "file_extension": ".py",
   "mimetype": "text/x-python",
   "name": "python",
   "nbconvert_exporter": "python",
   "pygments_lexer": "ipython3",
   "version": "3.7.6"
  }
 },
 "nbformat": 4,
 "nbformat_minor": 2
}
