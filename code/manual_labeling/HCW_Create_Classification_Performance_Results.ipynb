{
 "cells": [
  {
   "cell_type": "code",
   "execution_count": 512,
   "metadata": {},
   "outputs": [],
   "source": [
    "results_path = 'C:/Users/iliapl/Documents/CoronaVirusProject/repo/corona_healthcare_workers/manual_labeling/datasets/Classification_results/'\n",
    "\n",
    "rounds_finished = 20"
   ]
  },
  {
   "cell_type": "markdown",
   "metadata": {},
   "source": [
    "##  Each round folder will have 10 classification results per target (HCP vs HCP or Ind. vs Org.) - we take the mean and std of each round and target"
   ]
  },
  {
   "cell_type": "code",
   "execution_count": 513,
   "metadata": {},
   "outputs": [],
   "source": [
    "with_author_features = False\n",
    "individuals_only = False"
   ]
  },
  {
   "cell_type": "code",
   "execution_count": 519,
   "metadata": {},
   "outputs": [],
   "source": [
    "import os\n",
    "import pandas as pd\n",
    "\n",
    "account_type_dfs = []\n",
    "occupation_type_dfs = []\n",
    "\n",
    "for i in range(1, rounds_finished + 1):\n",
    "    results_round_path = results_path + 'Round_{}'.format(i)\n",
    "    if os.path.exists(results_round_path):\n",
    "        for results_file in os.listdir(results_round_path):\n",
    "            if with_author_features and 'with_author_features' not in results_file:\n",
    "                continue\n",
    "            df = pd.read_csv(results_round_path + '/' + results_file)\n",
    "            df['Round_Number'] = i\n",
    "            if 'target_Account_Type' in results_file:\n",
    "                account_type_dfs.append(df)\n",
    "            elif 'target_Occupation_Type' in results_file:\n",
    "                if individuals_only and 'individuals_only' not in results_file:\n",
    "                    continue\n",
    "                if not individuals_only and 'individuals_only' in results_file:\n",
    "                    continue\n",
    "                occupation_type_dfs.append(df)"
   ]
  },
  {
   "cell_type": "code",
   "execution_count": 520,
   "metadata": {},
   "outputs": [],
   "source": [
    "account_type_df = pd.concat(account_type_dfs)\n",
    "occupation_type_df = pd.concat(occupation_type_dfs)"
   ]
  },
  {
   "cell_type": "code",
   "execution_count": 521,
   "metadata": {},
   "outputs": [],
   "source": [
    "targeted_field = 'author_full_name_and_description'\n",
    "#targeted_field = 'description'\n",
    "\n",
    "account_type_df = account_type_df[account_type_df['Targeted_Field'] == targeted_field]\n",
    "occupation_type_df = occupation_type_df[occupation_type_df['Targeted_Field'] == targeted_field]"
   ]
  },
  {
   "cell_type": "code",
   "execution_count": 522,
   "metadata": {},
   "outputs": [],
   "source": [
    "df_dict = {'round': [], 'instances_per_class': [], 'mean_accuracy': [], 'std_accuracy': [], 'mean_F1': [], 'std_F1': [], 'mean_precision': [], 'std_precision': [], 'mean_recall': [], 'std_recall': []}\n",
    "\n",
    "for i in range(3, rounds_finished + 1):\n",
    "    round_results = account_type_df[account_type_df['Round_Number'] == i]\n",
    "    if not round_results.empty:\n",
    "        df_dict['round'].append(i)\n",
    "        df_dict['instances_per_class'].append(round_results['#Class_0'].iloc[0])\n",
    "        df_dict['mean_accuracy'].append(round_results['Accuracy'].mean())\n",
    "        df_dict['std_accuracy'].append(round_results['Accuracy'].std())\n",
    "        df_dict['mean_F1'].append(round_results['F1'].mean())\n",
    "        df_dict['std_F1'].append(round_results['F1'].std())\n",
    "        df_dict['mean_precision'].append(round_results['Precision'].mean())\n",
    "        df_dict['std_precision'].append(round_results['Precision'].std())\n",
    "        df_dict['mean_recall'].append(round_results['Recall'].mean())\n",
    "        df_dict['std_recall'].append(round_results['Recall'].std())\n",
    "\n",
    "pd.DataFrame(df_dict).to_csv(results_path + 'Round_{}/account_type_svm_tfidf_{}_{}balanced_10_runs_rounds_3_to_{}_results.csv'.format(rounds_finished, targeted_field, 'with_author_features_' if with_author_features else '', rounds_finished))"
   ]
  },
  {
   "cell_type": "code",
   "execution_count": 523,
   "metadata": {},
   "outputs": [],
   "source": [
    "df_dict = {'round': [], 'instances_per_class': [], 'mean_accuracy': [], 'std_accuracy': [], 'mean_F1': [], 'std_F1': [], 'mean_precision': [], 'std_precision': [], 'mean_recall': [], 'std_recall': []}\n",
    "\n",
    "for i in range(3, rounds_finished + 1):\n",
    "    round_results = occupation_type_df[occupation_type_df['Round_Number'] == i]\n",
    "    if not round_results.empty:\n",
    "        df_dict['round'].append(i)\n",
    "        df_dict['instances_per_class'].append(round_results['#Class_0'].iloc[0])\n",
    "        df_dict['mean_accuracy'].append(round_results['Accuracy'].mean())\n",
    "        df_dict['std_accuracy'].append(round_results['Accuracy'].std())\n",
    "        df_dict['mean_F1'].append(round_results['F1'].mean())\n",
    "        df_dict['std_F1'].append(round_results['F1'].std())\n",
    "        df_dict['mean_precision'].append(round_results['Precision'].mean())\n",
    "        df_dict['std_precision'].append(round_results['Precision'].std())\n",
    "        df_dict['mean_recall'].append(round_results['Recall'].mean())\n",
    "        df_dict['std_recall'].append(round_results['Recall'].std())\n",
    "\n",
    "pd.DataFrame(df_dict).to_csv(results_path + 'Round_{}/occupation_type_svm_tfidf_{}_{}{}balanced_10_runs_rounds_3_to_{}_results.csv'.format(rounds_finished, targeted_field, \n",
    "                                                                                                                                           'individuals_only_' if individuals_only else '',\n",
    "                                                                                                                                           'with_author_features_' if with_author_features else '', rounds_finished))"
   ]
  },
  {
   "cell_type": "code",
   "execution_count": null,
   "metadata": {},
   "outputs": [],
   "source": []
  },
  {
   "cell_type": "code",
   "execution_count": null,
   "metadata": {},
   "outputs": [],
   "source": []
  }
 ],
 "metadata": {
  "kernelspec": {
   "display_name": "Python 3",
   "language": "python",
   "name": "python3"
  },
  "language_info": {
   "codemirror_mode": {
    "name": "ipython",
    "version": 3
   },
   "file_extension": ".py",
   "mimetype": "text/x-python",
   "name": "python",
   "nbconvert_exporter": "python",
   "pygments_lexer": "ipython3",
   "version": "3.8.5"
  }
 },
 "nbformat": 4,
 "nbformat_minor": 4
}
