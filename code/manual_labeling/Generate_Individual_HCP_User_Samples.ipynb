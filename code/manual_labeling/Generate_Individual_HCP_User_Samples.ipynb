{
 "cells": [
  {
   "cell_type": "code",
   "execution_count": 59,
   "metadata": {},
   "outputs": [],
   "source": [
    "import pandas as pd\n",
    "\n",
    "path = 'C:/Users/iliapl/Documents/CoronaVirusProject/repo/corona_healthcare_workers/manual_labeling/datasets/Classification_results/'\n",
    "output_path = 'C:/Users/iliapl/Documents/CoronaVirusProject/repo/corona_healthcare_workers/manual_labeling/datasets/'\n",
    "\n",
    "unlabeled_predictions_df = pd.read_csv(path + 'unlabeled_predictions_Occupation_Type_individuals_only_using_author_full_name_and_description_and_SVM_classifier_balanced.csv')"
   ]
  },
  {
   "cell_type": "code",
   "execution_count": 60,
   "metadata": {},
   "outputs": [],
   "source": [
    "# remove labeled entries from when it was trained\n",
    "\n",
    "unlabeled_predictions_df = unlabeled_predictions_df[~unlabeled_predictions_df['confidence_to_class_1'].isnull()].reset_index(drop=True)"
   ]
  },
  {
   "cell_type": "code",
   "execution_count": 61,
   "metadata": {},
   "outputs": [
    {
     "data": {
      "text/plain": [
       "(34676, 8)"
      ]
     },
     "execution_count": 61,
     "metadata": {},
     "output_type": "execute_result"
    }
   ],
   "source": [
    "unlabeled_predictions_df.shape"
   ]
  },
  {
   "cell_type": "code",
   "execution_count": 62,
   "metadata": {},
   "outputs": [
    {
     "data": {
      "text/plain": [
       "(6880, 8)"
      ]
     },
     "execution_count": 62,
     "metadata": {},
     "output_type": "execute_result"
    }
   ],
   "source": [
    "CONFIDENCE_PERCENT = 90\n",
    "\n",
    "percentile = (100 - CONFIDENCE_PERCENT) / 100\n",
    "\n",
    "max_confidence_unlabeled_predictions_df = unlabeled_predictions_df[unlabeled_predictions_df['confidence_to_class_1'] <= percentile]\n",
    "max_confidence_unlabeled_predictions_df.shape"
   ]
  },
  {
   "cell_type": "code",
   "execution_count": 63,
   "metadata": {},
   "outputs": [],
   "source": [
    "SAMPLE_SIZE = 100\n",
    "\n",
    "max_confidence_unlabeled_predictions_df.sample(n=SAMPLE_SIZE).reset_index(drop=True).to_csv(output_path + 'random_{}_individual_hcps_confidence_{}_percent.csv'.format(SAMPLE_SIZE, CONFIDENCE_PERCENT), index=False)"
   ]
  },
  {
   "cell_type": "code",
   "execution_count": null,
   "metadata": {},
   "outputs": [],
   "source": []
  },
  {
   "cell_type": "code",
   "execution_count": null,
   "metadata": {},
   "outputs": [],
   "source": []
  }
 ],
 "metadata": {
  "kernelspec": {
   "display_name": "Python 3",
   "language": "python",
   "name": "python3"
  },
  "language_info": {
   "codemirror_mode": {
    "name": "ipython",
    "version": 3
   },
   "file_extension": ".py",
   "mimetype": "text/x-python",
   "name": "python",
   "nbconvert_exporter": "python",
   "pygments_lexer": "ipython3",
   "version": "3.8.5"
  }
 },
 "nbformat": 4,
 "nbformat_minor": 4
}
