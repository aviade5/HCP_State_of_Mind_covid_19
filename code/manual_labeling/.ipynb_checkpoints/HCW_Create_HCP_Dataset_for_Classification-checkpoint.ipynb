{
 "cells": [
  {
   "cell_type": "code",
   "execution_count": null,
   "metadata": {},
   "outputs": [],
   "source": [
    "import pandas as pd"
   ]
  },
  {
   "cell_type": "code",
   "execution_count": null,
   "metadata": {},
   "outputs": [],
   "source": [
    "#input_path = \"C:/GoogleDrive/Dropbox/Dropbox/Aviad_PhD/Coronavirus_Healthcare_Workers/HCP_Manual_Labeling/Round_1/\"\n",
    "\n",
    "rounds_count = 20\n",
    "\n",
    "input_path = \"C:/Users/iliapl/Documents/CoronaVirusProject/repo/corona_healthcare_workers/manual_labeling/datasets/\"\n",
    "\n",
    "dfs = []\n",
    "for i in range(1, rounds_count + 1):\n",
    "    df = pd.read_csv(input_path + \"Round_{0}/agreed_round_{0}_after_summit.csv\".format(i))\n",
    "    df['iteration'] = i\n",
    "    dfs.append(df)\n",
    "    \n",
    "united_df = pd.concat(dfs)\n",
    "united_df.to_csv(input_path + \"Dataset_ready_for_classification/\" + \"classified_hcp_manual_labeling_{0}_rounds.csv\".format(rounds_count), \n",
    "                 index=False)"
   ]
  },
  {
   "cell_type": "code",
   "execution_count": null,
   "metadata": {
    "scrolled": true
   },
   "outputs": [],
   "source": [
    "united_df.shape"
   ]
  },
  {
   "cell_type": "code",
   "execution_count": null,
   "metadata": {},
   "outputs": [],
   "source": [
    "#authors_features_df = pd.read_csv(input_path + \"top40percent_71972_authors.csv\")\n",
    "authors_features_df = pd.read_csv(input_path + \"434k_authors_details.csv\")\n",
    "authors_features_df"
   ]
  },
  {
   "cell_type": "code",
   "execution_count": null,
   "metadata": {},
   "outputs": [],
   "source": [
    "# autors_features_df = autors_features_df[[\"name\", \"author_guid\", \"author_osn_id\", \"author_screen_name\", \"author_full_name\", \"description\", \"statuses_count\", \n",
    "#                    \"followers_count\", \"followers_count\", \"friends_count\", \"listed_count\", \"language\", \"protected\",\n",
    "#                    \"verified\"]]\n",
    "authors_features_df = authors_features_df.rename(columns={\"name\": \"username\"})\n",
    "authors_features_df"
   ]
  },
  {
   "cell_type": "code",
   "execution_count": null,
   "metadata": {
    "scrolled": true
   },
   "outputs": [],
   "source": [
    "united_df"
   ]
  },
  {
   "cell_type": "code",
   "execution_count": null,
   "metadata": {},
   "outputs": [],
   "source": [
    "# Check how many instances were actually put into the SVM\n",
    "\n",
    "no_other_df = united_df[(united_df['Account_Type (Individual/Organization/Other)'] == 'Individual') | (united_df['Account_Type (Individual/Organization/Other)'] == 'Organization')]\n",
    "no_other_df = no_other_df[(no_other_df['Occupation_Type (HCP/Not HCP)'] == 'Hcp') | (no_other_df['Occupation_Type (HCP/Not HCP)'] == 'Not hcp')]\n",
    "no_other_df"
   ]
  },
  {
   "cell_type": "code",
   "execution_count": null,
   "metadata": {},
   "outputs": [],
   "source": [
    "#united_df[\"username\"] = united_df[\"username\"].astype(str)\n",
    "#authors_features_df[\"username\"] = authors_features_df[\"username\"].astype(str)\n",
    "\n",
    "df2 = pd.merge(united_df, authors_features_df, how=\"right\", on=\"username\")\n",
    "df2.to_csv(input_path + \"Dataset_ready_for_classification/\" + \"classified_hcp_manual_labeling_400k_authors_{0}_rounds_with_features.csv\".format(rounds_count), \n",
    "                 index=False)"
   ]
  },
  {
   "cell_type": "code",
   "execution_count": null,
   "metadata": {},
   "outputs": [],
   "source": []
  }
 ],
 "metadata": {
  "kernelspec": {
   "display_name": "Python 3",
   "language": "python",
   "name": "python3"
  },
  "language_info": {
   "codemirror_mode": {
    "name": "ipython",
    "version": 3
   },
   "file_extension": ".py",
   "mimetype": "text/x-python",
   "name": "python",
   "nbconvert_exporter": "python",
   "pygments_lexer": "ipython3",
   "version": "3.7.6"
  }
 },
 "nbformat": 4,
 "nbformat_minor": 2
}
